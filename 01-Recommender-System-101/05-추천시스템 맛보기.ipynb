{
 "cells": [
  {
   "cell_type": "markdown",
   "metadata": {},
   "source": [
    "# 간단한 추천시스템 만들기\n",
    "\n",
    "1. MovieLens 데이터셋 불러오기\n",
    "2. MovieLens 데이터셋 중 학습셋과 평가셋 나누기\n",
    "3. 간단한 추천 알고리즘 만들기(평점을 예측하고 평가는 RMSE로 한다)"
   ]
  },
  {
   "cell_type": "markdown",
   "metadata": {},
   "source": [
    "## 필요한 라이브러리 정의 (Configuration)"
   ]
  },
  {
   "cell_type": "code",
   "execution_count": 2,
   "metadata": {},
   "outputs": [],
   "source": [
    "import os\n",
    "from tqdm import tqdm\n",
    "import pandas as pd\n",
    "import numpy as np\n",
    "\n",
    "from sklearn.model_selection import train_test_split\n",
    "from sklearn.metrics import mean_squared_error\n",
    "from scipy.sparse import csr_matrix\n",
    "\n",
    "import warnings\n",
    "warnings.filterwarnings(\"ignore\")"
   ]
  },
  {
   "cell_type": "markdown",
   "metadata": {},
   "source": [
    "## MovieLens 데이터셋 불러오기\n",
    "\n",
    "* ratings.csv, movies.csv, tags.csv"
   ]
  },
  {
   "cell_type": "code",
   "execution_count": 7,
   "metadata": {},
   "outputs": [],
   "source": [
    "# Google drive는 경로 변경\n",
    "path = '../data/movielens/'"
   ]
  },
  {
   "cell_type": "code",
   "execution_count": 8,
   "metadata": {},
   "outputs": [],
   "source": [
    "ratings_df = pd.read_csv(os.path.join(path, 'ratings.csv'), encoding='utf-8')\n",
    "movies_df = pd.read_csv(os.path.join(path, 'movies.csv'), index_col='movieId', encoding='utf-8')\n",
    "tags_df = pd.read_csv(os.path.join(path, 'tags.csv'), encoding='utf-8')"
   ]
  },
  {
   "cell_type": "code",
   "execution_count": 9,
   "metadata": {},
   "outputs": [
    {
     "name": "stdout",
     "output_type": "stream",
     "text": [
      "(100836, 4)\n",
      "   userId  movieId  rating  timestamp\n",
      "0       1        1     4.0  964982703\n",
      "1       1        3     4.0  964981247\n",
      "2       1        6     4.0  964982224\n",
      "3       1       47     5.0  964983815\n",
      "4       1       50     5.0  964982931\n"
     ]
    }
   ],
   "source": [
    "print(ratings_df.shape)\n",
    "print(ratings_df.head())"
   ]
  },
  {
   "cell_type": "markdown",
   "metadata": {},
   "source": [
    "### ratings 데이터 정보 확인하기\n",
    "\n",
    "* 몇 명의 유저가 몇 개의 영화에 평점을 줬는지\n",
    "* 각 유저가 어떤 영화에 평점을 줬는지 sparse matrix\n",
    "* 평가를 하지 못한 항목에는 nan 값이 들어가기 때문에 희소 행렬이 된다"
   ]
  },
  {
   "cell_type": "code",
   "execution_count": 10,
   "metadata": {},
   "outputs": [
    {
     "name": "stdout",
     "output_type": "stream",
     "text": [
      "총 유저 수:  610\n",
      "총 영화 수:  9724\n"
     ]
    }
   ],
   "source": [
    "num_users = ratings_df['userId'].unique()\n",
    "num_movies = ratings_df['movieId'].unique()\n",
    "\n",
    "print(\"총 유저 수: \", len(num_users))\n",
    "print(\"총 영화 수: \", len(num_movies))"
   ]
  },
  {
   "cell_type": "markdown",
   "metadata": {},
   "source": [
    "* pandas dataframe의 pivot: https://pandas.pydata.org/pandas-docs/stable/reference/api/pandas.DataFrame.pivot.html"
   ]
  },
  {
   "cell_type": "code",
   "execution_count": 18,
   "metadata": {},
   "outputs": [],
   "source": [
    "# pivot ratings into movie features\n",
    "user_movie_matrix = ratings_df.pivot(\n",
    "    index='movieId',\n",
    "    columns='userId',\n",
    "    values='rating'\n",
    ").fillna(0)\n",
    "# pivoting을 통해 희소 행렬 중 null 값을 0으로 채운다\n"
   ]
  },
  {
   "cell_type": "code",
   "execution_count": 19,
   "outputs": [
    {
     "data": {
      "text/plain": "userId   1    2    3    4    5    6    7    8    9    10   ...  601  602  603  \\\nmovieId                                                    ...                  \n1        4.0  0.0  0.0  0.0  4.0  0.0  4.5  0.0  0.0  0.0  ...  4.0  0.0  4.0   \n2        0.0  0.0  0.0  0.0  0.0  4.0  0.0  4.0  0.0  0.0  ...  0.0  4.0  0.0   \n3        4.0  0.0  0.0  0.0  0.0  5.0  0.0  0.0  0.0  0.0  ...  0.0  0.0  0.0   \n4        0.0  0.0  0.0  0.0  0.0  3.0  0.0  0.0  0.0  0.0  ...  0.0  0.0  0.0   \n5        0.0  0.0  0.0  0.0  0.0  5.0  0.0  0.0  0.0  0.0  ...  0.0  0.0  0.0   \n...      ...  ...  ...  ...  ...  ...  ...  ...  ...  ...  ...  ...  ...  ...   \n193581   0.0  0.0  0.0  0.0  0.0  0.0  0.0  0.0  0.0  0.0  ...  0.0  0.0  0.0   \n193583   0.0  0.0  0.0  0.0  0.0  0.0  0.0  0.0  0.0  0.0  ...  0.0  0.0  0.0   \n193585   0.0  0.0  0.0  0.0  0.0  0.0  0.0  0.0  0.0  0.0  ...  0.0  0.0  0.0   \n193587   0.0  0.0  0.0  0.0  0.0  0.0  0.0  0.0  0.0  0.0  ...  0.0  0.0  0.0   \n193609   0.0  0.0  0.0  0.0  0.0  0.0  0.0  0.0  0.0  0.0  ...  0.0  0.0  0.0   \n\nuserId   604  605  606  607  608  609  610  \nmovieId                                     \n1        3.0  4.0  2.5  4.0  2.5  3.0  5.0  \n2        5.0  3.5  0.0  0.0  2.0  0.0  0.0  \n3        0.0  0.0  0.0  0.0  2.0  0.0  0.0  \n4        0.0  0.0  0.0  0.0  0.0  0.0  0.0  \n5        3.0  0.0  0.0  0.0  0.0  0.0  0.0  \n...      ...  ...  ...  ...  ...  ...  ...  \n193581   0.0  0.0  0.0  0.0  0.0  0.0  0.0  \n193583   0.0  0.0  0.0  0.0  0.0  0.0  0.0  \n193585   0.0  0.0  0.0  0.0  0.0  0.0  0.0  \n193587   0.0  0.0  0.0  0.0  0.0  0.0  0.0  \n193609   0.0  0.0  0.0  0.0  0.0  0.0  0.0  \n\n[9724 rows x 610 columns]",
      "text/html": "<div>\n<style scoped>\n    .dataframe tbody tr th:only-of-type {\n        vertical-align: middle;\n    }\n\n    .dataframe tbody tr th {\n        vertical-align: top;\n    }\n\n    .dataframe thead th {\n        text-align: right;\n    }\n</style>\n<table border=\"1\" class=\"dataframe\">\n  <thead>\n    <tr style=\"text-align: right;\">\n      <th>userId</th>\n      <th>1</th>\n      <th>2</th>\n      <th>3</th>\n      <th>4</th>\n      <th>5</th>\n      <th>6</th>\n      <th>7</th>\n      <th>8</th>\n      <th>9</th>\n      <th>10</th>\n      <th>...</th>\n      <th>601</th>\n      <th>602</th>\n      <th>603</th>\n      <th>604</th>\n      <th>605</th>\n      <th>606</th>\n      <th>607</th>\n      <th>608</th>\n      <th>609</th>\n      <th>610</th>\n    </tr>\n    <tr>\n      <th>movieId</th>\n      <th></th>\n      <th></th>\n      <th></th>\n      <th></th>\n      <th></th>\n      <th></th>\n      <th></th>\n      <th></th>\n      <th></th>\n      <th></th>\n      <th></th>\n      <th></th>\n      <th></th>\n      <th></th>\n      <th></th>\n      <th></th>\n      <th></th>\n      <th></th>\n      <th></th>\n      <th></th>\n      <th></th>\n    </tr>\n  </thead>\n  <tbody>\n    <tr>\n      <th>1</th>\n      <td>4.0</td>\n      <td>0.0</td>\n      <td>0.0</td>\n      <td>0.0</td>\n      <td>4.0</td>\n      <td>0.0</td>\n      <td>4.5</td>\n      <td>0.0</td>\n      <td>0.0</td>\n      <td>0.0</td>\n      <td>...</td>\n      <td>4.0</td>\n      <td>0.0</td>\n      <td>4.0</td>\n      <td>3.0</td>\n      <td>4.0</td>\n      <td>2.5</td>\n      <td>4.0</td>\n      <td>2.5</td>\n      <td>3.0</td>\n      <td>5.0</td>\n    </tr>\n    <tr>\n      <th>2</th>\n      <td>0.0</td>\n      <td>0.0</td>\n      <td>0.0</td>\n      <td>0.0</td>\n      <td>0.0</td>\n      <td>4.0</td>\n      <td>0.0</td>\n      <td>4.0</td>\n      <td>0.0</td>\n      <td>0.0</td>\n      <td>...</td>\n      <td>0.0</td>\n      <td>4.0</td>\n      <td>0.0</td>\n      <td>5.0</td>\n      <td>3.5</td>\n      <td>0.0</td>\n      <td>0.0</td>\n      <td>2.0</td>\n      <td>0.0</td>\n      <td>0.0</td>\n    </tr>\n    <tr>\n      <th>3</th>\n      <td>4.0</td>\n      <td>0.0</td>\n      <td>0.0</td>\n      <td>0.0</td>\n      <td>0.0</td>\n      <td>5.0</td>\n      <td>0.0</td>\n      <td>0.0</td>\n      <td>0.0</td>\n      <td>0.0</td>\n      <td>...</td>\n      <td>0.0</td>\n      <td>0.0</td>\n      <td>0.0</td>\n      <td>0.0</td>\n      <td>0.0</td>\n      <td>0.0</td>\n      <td>0.0</td>\n      <td>2.0</td>\n      <td>0.0</td>\n      <td>0.0</td>\n    </tr>\n    <tr>\n      <th>4</th>\n      <td>0.0</td>\n      <td>0.0</td>\n      <td>0.0</td>\n      <td>0.0</td>\n      <td>0.0</td>\n      <td>3.0</td>\n      <td>0.0</td>\n      <td>0.0</td>\n      <td>0.0</td>\n      <td>0.0</td>\n      <td>...</td>\n      <td>0.0</td>\n      <td>0.0</td>\n      <td>0.0</td>\n      <td>0.0</td>\n      <td>0.0</td>\n      <td>0.0</td>\n      <td>0.0</td>\n      <td>0.0</td>\n      <td>0.0</td>\n      <td>0.0</td>\n    </tr>\n    <tr>\n      <th>5</th>\n      <td>0.0</td>\n      <td>0.0</td>\n      <td>0.0</td>\n      <td>0.0</td>\n      <td>0.0</td>\n      <td>5.0</td>\n      <td>0.0</td>\n      <td>0.0</td>\n      <td>0.0</td>\n      <td>0.0</td>\n      <td>...</td>\n      <td>0.0</td>\n      <td>0.0</td>\n      <td>0.0</td>\n      <td>3.0</td>\n      <td>0.0</td>\n      <td>0.0</td>\n      <td>0.0</td>\n      <td>0.0</td>\n      <td>0.0</td>\n      <td>0.0</td>\n    </tr>\n    <tr>\n      <th>...</th>\n      <td>...</td>\n      <td>...</td>\n      <td>...</td>\n      <td>...</td>\n      <td>...</td>\n      <td>...</td>\n      <td>...</td>\n      <td>...</td>\n      <td>...</td>\n      <td>...</td>\n      <td>...</td>\n      <td>...</td>\n      <td>...</td>\n      <td>...</td>\n      <td>...</td>\n      <td>...</td>\n      <td>...</td>\n      <td>...</td>\n      <td>...</td>\n      <td>...</td>\n      <td>...</td>\n    </tr>\n    <tr>\n      <th>193581</th>\n      <td>0.0</td>\n      <td>0.0</td>\n      <td>0.0</td>\n      <td>0.0</td>\n      <td>0.0</td>\n      <td>0.0</td>\n      <td>0.0</td>\n      <td>0.0</td>\n      <td>0.0</td>\n      <td>0.0</td>\n      <td>...</td>\n      <td>0.0</td>\n      <td>0.0</td>\n      <td>0.0</td>\n      <td>0.0</td>\n      <td>0.0</td>\n      <td>0.0</td>\n      <td>0.0</td>\n      <td>0.0</td>\n      <td>0.0</td>\n      <td>0.0</td>\n    </tr>\n    <tr>\n      <th>193583</th>\n      <td>0.0</td>\n      <td>0.0</td>\n      <td>0.0</td>\n      <td>0.0</td>\n      <td>0.0</td>\n      <td>0.0</td>\n      <td>0.0</td>\n      <td>0.0</td>\n      <td>0.0</td>\n      <td>0.0</td>\n      <td>...</td>\n      <td>0.0</td>\n      <td>0.0</td>\n      <td>0.0</td>\n      <td>0.0</td>\n      <td>0.0</td>\n      <td>0.0</td>\n      <td>0.0</td>\n      <td>0.0</td>\n      <td>0.0</td>\n      <td>0.0</td>\n    </tr>\n    <tr>\n      <th>193585</th>\n      <td>0.0</td>\n      <td>0.0</td>\n      <td>0.0</td>\n      <td>0.0</td>\n      <td>0.0</td>\n      <td>0.0</td>\n      <td>0.0</td>\n      <td>0.0</td>\n      <td>0.0</td>\n      <td>0.0</td>\n      <td>...</td>\n      <td>0.0</td>\n      <td>0.0</td>\n      <td>0.0</td>\n      <td>0.0</td>\n      <td>0.0</td>\n      <td>0.0</td>\n      <td>0.0</td>\n      <td>0.0</td>\n      <td>0.0</td>\n      <td>0.0</td>\n    </tr>\n    <tr>\n      <th>193587</th>\n      <td>0.0</td>\n      <td>0.0</td>\n      <td>0.0</td>\n      <td>0.0</td>\n      <td>0.0</td>\n      <td>0.0</td>\n      <td>0.0</td>\n      <td>0.0</td>\n      <td>0.0</td>\n      <td>0.0</td>\n      <td>...</td>\n      <td>0.0</td>\n      <td>0.0</td>\n      <td>0.0</td>\n      <td>0.0</td>\n      <td>0.0</td>\n      <td>0.0</td>\n      <td>0.0</td>\n      <td>0.0</td>\n      <td>0.0</td>\n      <td>0.0</td>\n    </tr>\n    <tr>\n      <th>193609</th>\n      <td>0.0</td>\n      <td>0.0</td>\n      <td>0.0</td>\n      <td>0.0</td>\n      <td>0.0</td>\n      <td>0.0</td>\n      <td>0.0</td>\n      <td>0.0</td>\n      <td>0.0</td>\n      <td>0.0</td>\n      <td>...</td>\n      <td>0.0</td>\n      <td>0.0</td>\n      <td>0.0</td>\n      <td>0.0</td>\n      <td>0.0</td>\n      <td>0.0</td>\n      <td>0.0</td>\n      <td>0.0</td>\n      <td>0.0</td>\n      <td>0.0</td>\n    </tr>\n  </tbody>\n</table>\n<p>9724 rows × 610 columns</p>\n</div>"
     },
     "execution_count": 19,
     "metadata": {},
     "output_type": "execute_result"
    }
   ],
   "source": [
    "user_movie_matrix"
   ],
   "metadata": {
    "collapsed": false,
    "pycharm": {
     "name": "#%%\n"
    }
   }
  },
  {
   "cell_type": "code",
   "execution_count": 20,
   "outputs": [],
   "source": [
    "# convert dataframe of movie features to scipy sparse matrix\n",
    "sparse_mat = csr_matrix(user_movie_matrix.values)"
   ],
   "metadata": {
    "collapsed": false,
    "pycharm": {
     "name": "#%%\n"
    }
   }
  },
  {
   "cell_type": "code",
   "execution_count": 21,
   "metadata": {},
   "outputs": [
    {
     "name": "stdout",
     "output_type": "stream",
     "text": [
      "userId   1    2    3    4    5    6    7    8    9    10   ...  601  602  603  \\\n",
      "movieId                                                    ...                  \n",
      "1        4.0  0.0  0.0  0.0  4.0  0.0  4.5  0.0  0.0  0.0  ...  4.0  0.0  4.0   \n",
      "2        0.0  0.0  0.0  0.0  0.0  4.0  0.0  4.0  0.0  0.0  ...  0.0  4.0  0.0   \n",
      "3        4.0  0.0  0.0  0.0  0.0  5.0  0.0  0.0  0.0  0.0  ...  0.0  0.0  0.0   \n",
      "4        0.0  0.0  0.0  0.0  0.0  3.0  0.0  0.0  0.0  0.0  ...  0.0  0.0  0.0   \n",
      "5        0.0  0.0  0.0  0.0  0.0  5.0  0.0  0.0  0.0  0.0  ...  0.0  0.0  0.0   \n",
      "...      ...  ...  ...  ...  ...  ...  ...  ...  ...  ...  ...  ...  ...  ...   \n",
      "193581   0.0  0.0  0.0  0.0  0.0  0.0  0.0  0.0  0.0  0.0  ...  0.0  0.0  0.0   \n",
      "193583   0.0  0.0  0.0  0.0  0.0  0.0  0.0  0.0  0.0  0.0  ...  0.0  0.0  0.0   \n",
      "193585   0.0  0.0  0.0  0.0  0.0  0.0  0.0  0.0  0.0  0.0  ...  0.0  0.0  0.0   \n",
      "193587   0.0  0.0  0.0  0.0  0.0  0.0  0.0  0.0  0.0  0.0  ...  0.0  0.0  0.0   \n",
      "193609   0.0  0.0  0.0  0.0  0.0  0.0  0.0  0.0  0.0  0.0  ...  0.0  0.0  0.0   \n",
      "\n",
      "userId   604  605  606  607  608  609  610  \n",
      "movieId                                     \n",
      "1        3.0  4.0  2.5  4.0  2.5  3.0  5.0  \n",
      "2        5.0  3.5  0.0  0.0  2.0  0.0  0.0  \n",
      "3        0.0  0.0  0.0  0.0  2.0  0.0  0.0  \n",
      "4        0.0  0.0  0.0  0.0  0.0  0.0  0.0  \n",
      "5        3.0  0.0  0.0  0.0  0.0  0.0  0.0  \n",
      "...      ...  ...  ...  ...  ...  ...  ...  \n",
      "193581   0.0  0.0  0.0  0.0  0.0  0.0  0.0  \n",
      "193583   0.0  0.0  0.0  0.0  0.0  0.0  0.0  \n",
      "193585   0.0  0.0  0.0  0.0  0.0  0.0  0.0  \n",
      "193587   0.0  0.0  0.0  0.0  0.0  0.0  0.0  \n",
      "193609   0.0  0.0  0.0  0.0  0.0  0.0  0.0  \n",
      "\n",
      "[9724 rows x 610 columns]\n"
     ]
    }
   ],
   "source": [
    "print(user_movie_matrix)"
   ]
  },
  {
   "cell_type": "code",
   "execution_count": 22,
   "metadata": {},
   "outputs": [
    {
     "name": "stdout",
     "output_type": "stream",
     "text": [
      "  (0, 0)\t4.0\n",
      "  (0, 4)\t4.0\n",
      "  (0, 6)\t4.5\n",
      "  (0, 14)\t2.5\n",
      "  (0, 16)\t4.5\n",
      "  (0, 17)\t3.5\n",
      "  (0, 18)\t4.0\n",
      "  (0, 20)\t3.5\n",
      "  (0, 26)\t3.0\n",
      "  (0, 30)\t5.0\n",
      "  (0, 31)\t3.0\n",
      "  (0, 32)\t3.0\n",
      "  (0, 39)\t5.0\n",
      "  (0, 42)\t5.0\n",
      "  (0, 43)\t3.0\n",
      "  (0, 44)\t4.0\n",
      "  (0, 45)\t5.0\n",
      "  (0, 49)\t3.0\n",
      "  (0, 53)\t3.0\n",
      "  (0, 56)\t5.0\n",
      "  (0, 62)\t5.0\n",
      "  (0, 63)\t4.0\n",
      "  (0, 65)\t4.0\n",
      "  (0, 67)\t2.5\n",
      "  (0, 70)\t5.0\n",
      "  :\t:\n",
      "  (9700, 337)\t2.5\n",
      "  (9701, 337)\t3.0\n",
      "  (9702, 183)\t4.0\n",
      "  (9702, 247)\t3.5\n",
      "  (9703, 317)\t2.5\n",
      "  (9704, 209)\t1.0\n",
      "  (9705, 461)\t2.5\n",
      "  (9706, 49)\t3.5\n",
      "  (9707, 337)\t1.5\n",
      "  (9708, 337)\t4.0\n",
      "  (9709, 337)\t1.0\n",
      "  (9710, 337)\t1.5\n",
      "  (9711, 337)\t1.0\n",
      "  (9712, 337)\t1.0\n",
      "  (9713, 183)\t4.5\n",
      "  (9714, 183)\t3.5\n",
      "  (9715, 183)\t3.0\n",
      "  (9716, 183)\t4.0\n",
      "  (9717, 183)\t4.0\n",
      "  (9718, 183)\t3.5\n",
      "  (9719, 183)\t4.0\n",
      "  (9720, 183)\t3.5\n",
      "  (9721, 183)\t3.5\n",
      "  (9722, 183)\t3.5\n",
      "  (9723, 330)\t4.0\n"
     ]
    }
   ],
   "source": [
    "print(sparse_mat)\n",
    "# sparse matrix를 아래처럼 표현 -> 메모리 효율적"
   ]
  },
  {
   "cell_type": "code",
   "execution_count": 25,
   "metadata": {},
   "outputs": [],
   "source": [
    "user_info_df = pd.DataFrame(\n",
    "    data = [sum(list(user_movie_matrix[int(x)].value_counts())[1:]) for x in user_movie_matrix.columns],\n",
    "    # movie matrix의 column user id별로 user movie matrix의 user id에 따라서 value count를 한 후 summation을 한다\n",
    "    index = user_movie_matrix.columns,\n",
    "    columns=['movies_rated'])\n",
    "\n",
    "# sum(list(user_movie_matrix[1].value_counts())[1:])\n",
    "# 유저가 rating을 준 영화가 몇 개인지 알아보자"
   ]
  },
  {
   "cell_type": "code",
   "execution_count": 26,
   "metadata": {},
   "outputs": [
    {
     "data": {
      "text/plain": "        movies_rated\nuserId              \n1                232\n2                 29\n3                 39\n4                216\n5                 44\n...              ...\n606             1115\n607              187\n608              831\n609               37\n610             1302\n\n[610 rows x 1 columns]",
      "text/html": "<div>\n<style scoped>\n    .dataframe tbody tr th:only-of-type {\n        vertical-align: middle;\n    }\n\n    .dataframe tbody tr th {\n        vertical-align: top;\n    }\n\n    .dataframe thead th {\n        text-align: right;\n    }\n</style>\n<table border=\"1\" class=\"dataframe\">\n  <thead>\n    <tr style=\"text-align: right;\">\n      <th></th>\n      <th>movies_rated</th>\n    </tr>\n    <tr>\n      <th>userId</th>\n      <th></th>\n    </tr>\n  </thead>\n  <tbody>\n    <tr>\n      <th>1</th>\n      <td>232</td>\n    </tr>\n    <tr>\n      <th>2</th>\n      <td>29</td>\n    </tr>\n    <tr>\n      <th>3</th>\n      <td>39</td>\n    </tr>\n    <tr>\n      <th>4</th>\n      <td>216</td>\n    </tr>\n    <tr>\n      <th>5</th>\n      <td>44</td>\n    </tr>\n    <tr>\n      <th>...</th>\n      <td>...</td>\n    </tr>\n    <tr>\n      <th>606</th>\n      <td>1115</td>\n    </tr>\n    <tr>\n      <th>607</th>\n      <td>187</td>\n    </tr>\n    <tr>\n      <th>608</th>\n      <td>831</td>\n    </tr>\n    <tr>\n      <th>609</th>\n      <td>37</td>\n    </tr>\n    <tr>\n      <th>610</th>\n      <td>1302</td>\n    </tr>\n  </tbody>\n</table>\n<p>610 rows × 1 columns</p>\n</div>"
     },
     "execution_count": 26,
     "metadata": {},
     "output_type": "execute_result"
    }
   ],
   "source": [
    "user_info_df"
   ]
  },
  {
   "cell_type": "code",
   "execution_count": 23,
   "metadata": {},
   "outputs": [],
   "source": [
    "movie_info_df = pd.DataFrame(\n",
    "    data = [sum(list(user_movie_matrix.loc[int(x)].value_counts())[1:]) for x in user_movie_matrix.index],\n",
    "    index = user_movie_matrix.index,\n",
    "    columns=['users_rated'])\n"
   ]
  },
  {
   "cell_type": "code",
   "execution_count": 24,
   "metadata": {},
   "outputs": [
    {
     "data": {
      "text/plain": "         users_rated\nmovieId             \n1                215\n2                110\n3                 52\n4                  7\n5                 49\n...              ...\n193581             1\n193583             1\n193585             1\n193587             1\n193609             1\n\n[9724 rows x 1 columns]",
      "text/html": "<div>\n<style scoped>\n    .dataframe tbody tr th:only-of-type {\n        vertical-align: middle;\n    }\n\n    .dataframe tbody tr th {\n        vertical-align: top;\n    }\n\n    .dataframe thead th {\n        text-align: right;\n    }\n</style>\n<table border=\"1\" class=\"dataframe\">\n  <thead>\n    <tr style=\"text-align: right;\">\n      <th></th>\n      <th>users_rated</th>\n    </tr>\n    <tr>\n      <th>movieId</th>\n      <th></th>\n    </tr>\n  </thead>\n  <tbody>\n    <tr>\n      <th>1</th>\n      <td>215</td>\n    </tr>\n    <tr>\n      <th>2</th>\n      <td>110</td>\n    </tr>\n    <tr>\n      <th>3</th>\n      <td>52</td>\n    </tr>\n    <tr>\n      <th>4</th>\n      <td>7</td>\n    </tr>\n    <tr>\n      <th>5</th>\n      <td>49</td>\n    </tr>\n    <tr>\n      <th>...</th>\n      <td>...</td>\n    </tr>\n    <tr>\n      <th>193581</th>\n      <td>1</td>\n    </tr>\n    <tr>\n      <th>193583</th>\n      <td>1</td>\n    </tr>\n    <tr>\n      <th>193585</th>\n      <td>1</td>\n    </tr>\n    <tr>\n      <th>193587</th>\n      <td>1</td>\n    </tr>\n    <tr>\n      <th>193609</th>\n      <td>1</td>\n    </tr>\n  </tbody>\n</table>\n<p>9724 rows × 1 columns</p>\n</div>"
     },
     "execution_count": 24,
     "metadata": {},
     "output_type": "execute_result"
    }
   ],
   "source": [
    "movie_info_df"
   ]
  },
  {
   "cell_type": "markdown",
   "source": [
    "영화마다 평점을 준 user 개수가 상당히 biased 되어 있다는 것을 알 수 있다."
   ],
   "metadata": {
    "collapsed": false
   }
  },
  {
   "cell_type": "markdown",
   "metadata": {},
   "source": [
    "## MovieLens 데이터셋 중 학습셋과 평가셋 나누기"
   ]
  },
  {
   "cell_type": "code",
   "execution_count": 29,
   "metadata": {},
   "outputs": [],
   "source": [
    "train_df, test_df = train_test_split(ratings_df, test_size=0.2, random_state=1234) # randomstate 고정"
   ]
  },
  {
   "cell_type": "code",
   "execution_count": 30,
   "metadata": {},
   "outputs": [
    {
     "name": "stdout",
     "output_type": "stream",
     "text": [
      "(80668, 4)\n",
      "(20168, 4)\n"
     ]
    }
   ],
   "source": [
    "print(train_df.shape)\n",
    "print(test_df.shape)"
   ]
  },
  {
   "cell_type": "markdown",
   "metadata": {},
   "source": [
    "### test set에는 존재하지만, train set에는 없는 영화 또는 사용자 비율\n",
    "\n",
    "보지도 않은 user에 대한 평점을 예측해 달라고 하는 것은 상당히 가혹한 일"
   ]
  },
  {
   "cell_type": "code",
   "execution_count": 31,
   "metadata": {},
   "outputs": [
    {
     "name": "stdout",
     "output_type": "stream",
     "text": [
      "사용자:  0\n",
      "영화:  786\n",
      "test set의 전체 영화 수:  5171\n"
     ]
    }
   ],
   "source": [
    "# 집합 A - 집합 B => 집합 B에는 없고 집합 A에만 있는 item \n",
    "\n",
    "# userId\n",
    "print(\"사용자: \",len(list(set(test_df['userId'].unique()) - set(train_df['userId'].unique()))))\n",
    "\n",
    "# movieId -> test set에만 있는 영화 비율\n",
    "print(\"영화: \", len(list(set(test_df['movieId'].unique()) - set(train_df['movieId'].unique()))))\n",
    "print(\"test set의 전체 영화 수: \",  len(test_df['movieId'].unique()))"
   ]
  },
  {
   "cell_type": "code",
   "execution_count": 33,
   "metadata": {},
   "outputs": [
    {
     "name": "stdout",
     "output_type": "stream",
     "text": [
      "[49, 117, 137, 178, 241, 320, 359, 478, 488, 495]\n",
      "       userId  movieId  rating   timestamp\n",
      "29386     202       49     3.0   974925453\n",
      "97066     604      117     3.0   832080636\n",
      "99501     609      137     3.0   847221054\n",
      "27959     191      178     1.0   829760898\n",
      "98493     607      241     4.0   964744490\n",
      "96182     603      320     3.0   953925390\n",
      "728         6      359     3.0   845556412\n",
      "92825     599      478     2.5  1498515125\n",
      "73214     474      488     3.0  1047569232\n",
      "96218     603      495     5.0   953927108\n",
      "train set에 없고, test set에만 있는 영화 데이터 수:  (852, 4)\n"
     ]
    }
   ],
   "source": [
    "movies_not_included = list(set(test_df['movieId'].unique()) - set(train_df['movieId'].unique()))\n",
    "print(sorted(movies_not_included)[:10])\n",
    "\n",
    "not_included_df = test_df[test_df.movieId.isin(movies_not_included)].sort_values(by='movieId')\n",
    "print(not_included_df.head(10))\n",
    "\n",
    "print(\"train set에 없고, test set에만 있는 영화 데이터 수: \", not_included_df.shape)"
   ]
  },
  {
   "cell_type": "markdown",
   "metadata": {},
   "source": [
    "## 간단한 추천알고리즘 만들기\n",
    "\n",
    "1. 랜덤으로 평점 예측하기\n",
    "2. 영화 평균 평점기반 예측하기\n",
    "3. 사용자 평균 평점기반 예측하기\n",
    "4. Rule기반 영화 랭킹 예측하기\n",
    "    \n",
    "* test에 있고, train에 없는 경우"
   ]
  },
  {
   "cell_type": "markdown",
   "metadata": {},
   "source": [
    "### 랜덤으로 평점 예측하기"
   ]
  },
  {
   "cell_type": "code",
   "execution_count": 34,
   "metadata": {},
   "outputs": [
    {
     "data": {
      "text/plain": "array([0.5, 1. , 1.5, 2. , 2.5, 3. , 3.5, 4. , 4.5, 5. ])"
     },
     "execution_count": 34,
     "metadata": {},
     "output_type": "execute_result"
    }
   ],
   "source": [
    "# 0.5 - 5.0사이의 숫자를 예측해야할 평점 수 만큼 generate\n",
    "ratings_range = np.arange(0.5, 5.5, step=0.5)\n",
    "ratings_range"
   ]
  },
  {
   "cell_type": "code",
   "execution_count": 35,
   "metadata": {},
   "outputs": [
    {
     "data": {
      "text/plain": "[2.0, 5.0, 3.5, 4.0, 4.5, 1.0, 3.5, 1.0, 4.5, 2.5]"
     },
     "execution_count": 35,
     "metadata": {},
     "output_type": "execute_result"
    }
   ],
   "source": [
    "import random\n",
    "pred_random = [random.choice(ratings_range) for x in range(len(test_df))]\n",
    "pred_random[:10]"
   ]
  },
  {
   "cell_type": "code",
   "execution_count": 38,
   "metadata": {},
   "outputs": [
    {
     "data": {
      "text/plain": "       userId  movieId  rating   timestamp  pred_ratings_random\n99731     610     3527     5.0  1479545223                  2.0\n97583     606     1250     3.5  1171376891                  5.0\n38197     262      213     5.0   840310907                  3.5\n11474      68    69406     3.0  1261622505                  4.0\n34105     232     4728     3.0  1218166950                  4.5\n...       ...      ...     ...         ...                  ...\n41080     279      593     4.0  1506394242                  2.0\n4897       31      780     4.0   850466616                  2.5\n8023       56      410     3.0   835799188                  2.0\n77467     483     2291     4.0  1415579167                  1.0\n99662     610     1953     5.0  1493850274                  1.0\n\n[20168 rows x 5 columns]",
      "text/html": "<div>\n<style scoped>\n    .dataframe tbody tr th:only-of-type {\n        vertical-align: middle;\n    }\n\n    .dataframe tbody tr th {\n        vertical-align: top;\n    }\n\n    .dataframe thead th {\n        text-align: right;\n    }\n</style>\n<table border=\"1\" class=\"dataframe\">\n  <thead>\n    <tr style=\"text-align: right;\">\n      <th></th>\n      <th>userId</th>\n      <th>movieId</th>\n      <th>rating</th>\n      <th>timestamp</th>\n      <th>pred_ratings_random</th>\n    </tr>\n  </thead>\n  <tbody>\n    <tr>\n      <th>99731</th>\n      <td>610</td>\n      <td>3527</td>\n      <td>5.0</td>\n      <td>1479545223</td>\n      <td>2.0</td>\n    </tr>\n    <tr>\n      <th>97583</th>\n      <td>606</td>\n      <td>1250</td>\n      <td>3.5</td>\n      <td>1171376891</td>\n      <td>5.0</td>\n    </tr>\n    <tr>\n      <th>38197</th>\n      <td>262</td>\n      <td>213</td>\n      <td>5.0</td>\n      <td>840310907</td>\n      <td>3.5</td>\n    </tr>\n    <tr>\n      <th>11474</th>\n      <td>68</td>\n      <td>69406</td>\n      <td>3.0</td>\n      <td>1261622505</td>\n      <td>4.0</td>\n    </tr>\n    <tr>\n      <th>34105</th>\n      <td>232</td>\n      <td>4728</td>\n      <td>3.0</td>\n      <td>1218166950</td>\n      <td>4.5</td>\n    </tr>\n    <tr>\n      <th>...</th>\n      <td>...</td>\n      <td>...</td>\n      <td>...</td>\n      <td>...</td>\n      <td>...</td>\n    </tr>\n    <tr>\n      <th>41080</th>\n      <td>279</td>\n      <td>593</td>\n      <td>4.0</td>\n      <td>1506394242</td>\n      <td>2.0</td>\n    </tr>\n    <tr>\n      <th>4897</th>\n      <td>31</td>\n      <td>780</td>\n      <td>4.0</td>\n      <td>850466616</td>\n      <td>2.5</td>\n    </tr>\n    <tr>\n      <th>8023</th>\n      <td>56</td>\n      <td>410</td>\n      <td>3.0</td>\n      <td>835799188</td>\n      <td>2.0</td>\n    </tr>\n    <tr>\n      <th>77467</th>\n      <td>483</td>\n      <td>2291</td>\n      <td>4.0</td>\n      <td>1415579167</td>\n      <td>1.0</td>\n    </tr>\n    <tr>\n      <th>99662</th>\n      <td>610</td>\n      <td>1953</td>\n      <td>5.0</td>\n      <td>1493850274</td>\n      <td>1.0</td>\n    </tr>\n  </tbody>\n</table>\n<p>20168 rows × 5 columns</p>\n</div>"
     },
     "execution_count": 38,
     "metadata": {},
     "output_type": "execute_result"
    }
   ],
   "source": [
    "test_df['pred_ratings_random'] = pred_random\n",
    "test_df"
   ]
  },
  {
   "cell_type": "code",
   "execution_count": 39,
   "metadata": {},
   "outputs": [
    {
     "name": "stdout",
     "output_type": "stream",
     "text": [
      "3.679008825862753 1.9180742493091223\n"
     ]
    }
   ],
   "source": [
    "mse = mean_squared_error(y_true=test_df['rating'].values, y_pred=test_df['pred_ratings_random'].values)\n",
    "rmse = np.sqrt(mse)\n",
    "# rmse 계산\n",
    "print(mse, rmse)"
   ]
  },
  {
   "cell_type": "code",
   "execution_count": null,
   "outputs": [],
   "source": [
    "# 1.92의 rmse -> 굉장히 예측이 안되고 있다는 뜻"
   ],
   "metadata": {
    "collapsed": false,
    "pycharm": {
     "name": "#%%\n"
    }
   }
  },
  {
   "cell_type": "markdown",
   "metadata": {},
   "source": [
    "###  영화 평균 평점기반 예측하기\n",
    "\n",
    "1. train set의 모든 영화에 대해서 평균 평점 구하기\n",
    "2. test set 예측할 때, train set의 영화 평균 평점 활용하기. 만약 없다면, random으로 선택하기."
   ]
  },
  {
   "cell_type": "code",
   "execution_count": 40,
   "metadata": {},
   "outputs": [
    {
     "name": "stdout",
     "output_type": "stream",
     "text": [
      "(8938, 3)\n",
      "             userId    rating     timestamp\n",
      "movieId                                    \n",
      "1        307.473373  3.893491  1.128439e+09\n",
      "2        327.475610  3.396341  1.142893e+09\n",
      "3        266.386364  3.454545  9.900434e+08\n",
      "4        192.750000  2.250000  8.425133e+08\n",
      "5        309.526316  3.039474  1.007415e+09\n"
     ]
    }
   ],
   "source": [
    "train_movie_df = train_df.groupby('movieId').mean()\n",
    "\n",
    "print(train_movie_df.shape)\n",
    "print(train_movie_df.head())"
   ]
  },
  {
   "cell_type": "code",
   "execution_count": 45,
   "metadata": {},
   "outputs": [],
   "source": [
    "# test set에 training set이 있으면 rating을 가져오고 아니면 핸덤으로 채워넣는다\n",
    "def avg_rating_prediction(training_set, x):\n",
    "    if x in training_set.index:\n",
    "        pred_rating = training_set.loc[x]['rating']\n",
    "    else:\n",
    "        pred_rating = random.choice(ratings_range)\n",
    "    return pred_rating\n",
    "\n",
    "#"
   ]
  },
  {
   "cell_type": "code",
   "execution_count": 46,
   "metadata": {},
   "outputs": [
    {
     "data": {
      "text/plain": "       userId  movieId  rating   timestamp  pred_ratings_random  \\\n99731     610     3527     5.0  1479545223                  2.0   \n97583     606     1250     3.5  1171376891                  5.0   \n38197     262      213     5.0   840310907                  3.5   \n11474      68    69406     3.0  1261622505                  4.0   \n34105     232     4728     3.0  1218166950                  4.5   \n\n       pred_rating_movie  \n99731           3.604167  \n97583           4.180556  \n38197           3.750000  \n11474           3.571429  \n34105           2.769231  ",
      "text/html": "<div>\n<style scoped>\n    .dataframe tbody tr th:only-of-type {\n        vertical-align: middle;\n    }\n\n    .dataframe tbody tr th {\n        vertical-align: top;\n    }\n\n    .dataframe thead th {\n        text-align: right;\n    }\n</style>\n<table border=\"1\" class=\"dataframe\">\n  <thead>\n    <tr style=\"text-align: right;\">\n      <th></th>\n      <th>userId</th>\n      <th>movieId</th>\n      <th>rating</th>\n      <th>timestamp</th>\n      <th>pred_ratings_random</th>\n      <th>pred_rating_movie</th>\n    </tr>\n  </thead>\n  <tbody>\n    <tr>\n      <th>99731</th>\n      <td>610</td>\n      <td>3527</td>\n      <td>5.0</td>\n      <td>1479545223</td>\n      <td>2.0</td>\n      <td>3.604167</td>\n    </tr>\n    <tr>\n      <th>97583</th>\n      <td>606</td>\n      <td>1250</td>\n      <td>3.5</td>\n      <td>1171376891</td>\n      <td>5.0</td>\n      <td>4.180556</td>\n    </tr>\n    <tr>\n      <th>38197</th>\n      <td>262</td>\n      <td>213</td>\n      <td>5.0</td>\n      <td>840310907</td>\n      <td>3.5</td>\n      <td>3.750000</td>\n    </tr>\n    <tr>\n      <th>11474</th>\n      <td>68</td>\n      <td>69406</td>\n      <td>3.0</td>\n      <td>1261622505</td>\n      <td>4.0</td>\n      <td>3.571429</td>\n    </tr>\n    <tr>\n      <th>34105</th>\n      <td>232</td>\n      <td>4728</td>\n      <td>3.0</td>\n      <td>1218166950</td>\n      <td>4.5</td>\n      <td>2.769231</td>\n    </tr>\n  </tbody>\n</table>\n</div>"
     },
     "execution_count": 46,
     "metadata": {},
     "output_type": "execute_result"
    }
   ],
   "source": [
    "test_df['pred_rating_movie'] = test_df['movieId'].apply(lambda x: avg_rating_prediction(train_movie_df, x))\n",
    "\n",
    "test_df.head()"
   ]
  },
  {
   "cell_type": "code",
   "execution_count": 47,
   "metadata": {},
   "outputs": [
    {
     "name": "stdout",
     "output_type": "stream",
     "text": [
      "1.0758084263894776 1.0372118522218485\n"
     ]
    }
   ],
   "source": [
    "mse = mean_squared_error(y_true=test_df['rating'].values, y_pred=test_df['pred_rating_movie'].values)\n",
    "rmse = np.sqrt(mse)\n",
    "\n",
    "print(mse, rmse)"
   ]
  },
  {
   "cell_type": "markdown",
   "metadata": {},
   "source": [
    "### 사용자 평균 평점기반 예측하기\n",
    "\n",
    "1. train set의 모든 유저가 준 평균 평점\n",
    "2. test set 예측할 때, 유저가 train set에서 준 평균 평점을 활용. 유저가 없을 경우 random 평점 적용"
   ]
  },
  {
   "cell_type": "code",
   "execution_count": 51,
   "metadata": {},
   "outputs": [
    {
     "name": "stdout",
     "output_type": "stream",
     "text": [
      "(610, 3)\n",
      "             movieId    rating     timestamp\n",
      "userId                                      \n",
      "1        1891.168478  4.320652  9.649865e+08\n",
      "2       70402.760000  3.940000  1.445715e+09\n",
      "3        8394.733333  2.516667  1.306464e+09\n",
      "4        1957.923077  3.631868  9.655941e+08\n",
      "5         337.606061  3.636364  8.474351e+08\n"
     ]
    }
   ],
   "source": [
    "train_user_df = train_df.groupby('userId').mean()\n",
    "\n",
    "print(train_user_df.shape)\n",
    "print(train_user_df.head())"
   ]
  },
  {
   "cell_type": "code",
   "execution_count": 54,
   "metadata": {},
   "outputs": [
    {
     "data": {
      "text/plain": "       userId  movieId  rating   timestamp  pred_ratings_random  \\\n99731     610     3527     5.0  1479545223                  2.0   \n97583     606     1250     3.5  1171376891                  5.0   \n38197     262      213     5.0   840310907                  3.5   \n11474      68    69406     3.0  1261622505                  4.0   \n34105     232     4728     3.0  1218166950                  4.5   \n\n       pred_rating_movie  pred_rating_user  \n99731           3.604167          3.678709  \n97583           4.180556          3.649718  \n38197           3.750000          2.925000  \n11474           3.571429          3.229331  \n34105           2.769231          3.242268  ",
      "text/html": "<div>\n<style scoped>\n    .dataframe tbody tr th:only-of-type {\n        vertical-align: middle;\n    }\n\n    .dataframe tbody tr th {\n        vertical-align: top;\n    }\n\n    .dataframe thead th {\n        text-align: right;\n    }\n</style>\n<table border=\"1\" class=\"dataframe\">\n  <thead>\n    <tr style=\"text-align: right;\">\n      <th></th>\n      <th>userId</th>\n      <th>movieId</th>\n      <th>rating</th>\n      <th>timestamp</th>\n      <th>pred_ratings_random</th>\n      <th>pred_rating_movie</th>\n      <th>pred_rating_user</th>\n    </tr>\n  </thead>\n  <tbody>\n    <tr>\n      <th>99731</th>\n      <td>610</td>\n      <td>3527</td>\n      <td>5.0</td>\n      <td>1479545223</td>\n      <td>2.0</td>\n      <td>3.604167</td>\n      <td>3.678709</td>\n    </tr>\n    <tr>\n      <th>97583</th>\n      <td>606</td>\n      <td>1250</td>\n      <td>3.5</td>\n      <td>1171376891</td>\n      <td>5.0</td>\n      <td>4.180556</td>\n      <td>3.649718</td>\n    </tr>\n    <tr>\n      <th>38197</th>\n      <td>262</td>\n      <td>213</td>\n      <td>5.0</td>\n      <td>840310907</td>\n      <td>3.5</td>\n      <td>3.750000</td>\n      <td>2.925000</td>\n    </tr>\n    <tr>\n      <th>11474</th>\n      <td>68</td>\n      <td>69406</td>\n      <td>3.0</td>\n      <td>1261622505</td>\n      <td>4.0</td>\n      <td>3.571429</td>\n      <td>3.229331</td>\n    </tr>\n    <tr>\n      <th>34105</th>\n      <td>232</td>\n      <td>4728</td>\n      <td>3.0</td>\n      <td>1218166950</td>\n      <td>4.5</td>\n      <td>2.769231</td>\n      <td>3.242268</td>\n    </tr>\n  </tbody>\n</table>\n</div>"
     },
     "execution_count": 54,
     "metadata": {},
     "output_type": "execute_result"
    }
   ],
   "source": [
    "test_df['pred_rating_user'] = test_df['userId'].apply(lambda x: avg_rating_prediction(train_user_df, x))\n",
    "\n",
    "test_df.head()"
   ]
  },
  {
   "cell_type": "code",
   "execution_count": 56,
   "metadata": {},
   "outputs": [
    {
     "name": "stdout",
     "output_type": "stream",
     "text": [
      "0.8905889036428333 0.9437101798978504\n"
     ]
    }
   ],
   "source": [
    "mse = mean_squared_error(y_true=test_df['rating'].values, y_pred=test_df['pred_rating_user'].values)\n",
    "rmse = np.sqrt(mse)\n",
    "\n",
    "print(mse, rmse)\n",
    "# rating과 pred_rating_user 사이의 rmse 계산\n",
    "# 10퍼센트 향상\n",
    "# movieid를 기반으로 했을 때보다 userid 기반이 rmse 성능 향상\n",
    "\n",
    "# 유저 기반으로 할 시에는 결측값이 없음\n",
    "# test set에 있는 것이 train set에 다 있음\n",
    "# 영화 시점에서 유저를 바라보는 것보다 유저 입장에서 영화를 바라보는 것이 더 잘 반영된다 -> 추천이 더 잘된다"
   ]
  },
  {
   "cell_type": "markdown",
   "metadata": {},
   "source": [
    "### Rule 기반 영화 평점 예측하기\n",
    "\n",
    "1. train set에 포함된 유저의 영화 평균 평점과 영화의 장르를 활용하여, 장르별 평균 평점 계산 -> test set의 영화 장르의 평균 평점으로 예측\n",
    "2. 장르별로 train set의 평균 평점을 계산해서 test set의 영화 장르를 파악하고\n",
    "3. 각각의 장르 평균 평점을 가져와서 다시 한번 평균을 내서 해당 movie id에 대한 평점 예측 진행"
   ]
  },
  {
   "cell_type": "code",
   "execution_count": 57,
   "metadata": {},
   "outputs": [],
   "source": [
    "# create user_movie matrix by only using train_df\n",
    "train_user_movie_matrix = train_df.pivot(\n",
    "    index='movieId',\n",
    "    columns='userId',\n",
    "    values='rating'\n",
    ").fillna(0)"
   ]
  },
  {
   "cell_type": "code",
   "execution_count": 58,
   "metadata": {},
   "outputs": [
    {
     "data": {
      "text/plain": "userId   1    2    3    4    5    6    7    8    9    10   ...  601  602  603  \\\nmovieId                                                    ...                  \n1        0.0  0.0  0.0  0.0  4.0  0.0  4.5  0.0  0.0  0.0  ...  4.0  0.0  4.0   \n2        0.0  0.0  0.0  0.0  0.0  0.0  0.0  4.0  0.0  0.0  ...  0.0  4.0  0.0   \n3        4.0  0.0  0.0  0.0  0.0  5.0  0.0  0.0  0.0  0.0  ...  0.0  0.0  0.0   \n4        0.0  0.0  0.0  0.0  0.0  0.0  0.0  0.0  0.0  0.0  ...  0.0  0.0  0.0   \n5        0.0  0.0  0.0  0.0  0.0  5.0  0.0  0.0  0.0  0.0  ...  0.0  0.0  0.0   \n...      ...  ...  ...  ...  ...  ...  ...  ...  ...  ...  ...  ...  ...  ...   \n193573   0.0  0.0  0.0  0.0  0.0  0.0  0.0  0.0  0.0  0.0  ...  0.0  0.0  0.0   \n193579   0.0  0.0  0.0  0.0  0.0  0.0  0.0  0.0  0.0  0.0  ...  0.0  0.0  0.0   \n193581   0.0  0.0  0.0  0.0  0.0  0.0  0.0  0.0  0.0  0.0  ...  0.0  0.0  0.0   \n193587   0.0  0.0  0.0  0.0  0.0  0.0  0.0  0.0  0.0  0.0  ...  0.0  0.0  0.0   \n193609   0.0  0.0  0.0  0.0  0.0  0.0  0.0  0.0  0.0  0.0  ...  0.0  0.0  0.0   \n\nuserId   604  605  606  607  608  609  610  \nmovieId                                     \n1        3.0  4.0  2.5  0.0  2.5  0.0  5.0  \n2        0.0  3.5  0.0  0.0  2.0  0.0  0.0  \n3        0.0  0.0  0.0  0.0  0.0  0.0  0.0  \n4        0.0  0.0  0.0  0.0  0.0  0.0  0.0  \n5        0.0  0.0  0.0  0.0  0.0  0.0  0.0  \n...      ...  ...  ...  ...  ...  ...  ...  \n193573   0.0  0.0  0.0  0.0  0.0  0.0  0.0  \n193579   0.0  0.0  0.0  0.0  0.0  0.0  0.0  \n193581   0.0  0.0  0.0  0.0  0.0  0.0  0.0  \n193587   0.0  0.0  0.0  0.0  0.0  0.0  0.0  \n193609   0.0  0.0  0.0  0.0  0.0  0.0  0.0  \n\n[8938 rows x 610 columns]",
      "text/html": "<div>\n<style scoped>\n    .dataframe tbody tr th:only-of-type {\n        vertical-align: middle;\n    }\n\n    .dataframe tbody tr th {\n        vertical-align: top;\n    }\n\n    .dataframe thead th {\n        text-align: right;\n    }\n</style>\n<table border=\"1\" class=\"dataframe\">\n  <thead>\n    <tr style=\"text-align: right;\">\n      <th>userId</th>\n      <th>1</th>\n      <th>2</th>\n      <th>3</th>\n      <th>4</th>\n      <th>5</th>\n      <th>6</th>\n      <th>7</th>\n      <th>8</th>\n      <th>9</th>\n      <th>10</th>\n      <th>...</th>\n      <th>601</th>\n      <th>602</th>\n      <th>603</th>\n      <th>604</th>\n      <th>605</th>\n      <th>606</th>\n      <th>607</th>\n      <th>608</th>\n      <th>609</th>\n      <th>610</th>\n    </tr>\n    <tr>\n      <th>movieId</th>\n      <th></th>\n      <th></th>\n      <th></th>\n      <th></th>\n      <th></th>\n      <th></th>\n      <th></th>\n      <th></th>\n      <th></th>\n      <th></th>\n      <th></th>\n      <th></th>\n      <th></th>\n      <th></th>\n      <th></th>\n      <th></th>\n      <th></th>\n      <th></th>\n      <th></th>\n      <th></th>\n      <th></th>\n    </tr>\n  </thead>\n  <tbody>\n    <tr>\n      <th>1</th>\n      <td>0.0</td>\n      <td>0.0</td>\n      <td>0.0</td>\n      <td>0.0</td>\n      <td>4.0</td>\n      <td>0.0</td>\n      <td>4.5</td>\n      <td>0.0</td>\n      <td>0.0</td>\n      <td>0.0</td>\n      <td>...</td>\n      <td>4.0</td>\n      <td>0.0</td>\n      <td>4.0</td>\n      <td>3.0</td>\n      <td>4.0</td>\n      <td>2.5</td>\n      <td>0.0</td>\n      <td>2.5</td>\n      <td>0.0</td>\n      <td>5.0</td>\n    </tr>\n    <tr>\n      <th>2</th>\n      <td>0.0</td>\n      <td>0.0</td>\n      <td>0.0</td>\n      <td>0.0</td>\n      <td>0.0</td>\n      <td>0.0</td>\n      <td>0.0</td>\n      <td>4.0</td>\n      <td>0.0</td>\n      <td>0.0</td>\n      <td>...</td>\n      <td>0.0</td>\n      <td>4.0</td>\n      <td>0.0</td>\n      <td>0.0</td>\n      <td>3.5</td>\n      <td>0.0</td>\n      <td>0.0</td>\n      <td>2.0</td>\n      <td>0.0</td>\n      <td>0.0</td>\n    </tr>\n    <tr>\n      <th>3</th>\n      <td>4.0</td>\n      <td>0.0</td>\n      <td>0.0</td>\n      <td>0.0</td>\n      <td>0.0</td>\n      <td>5.0</td>\n      <td>0.0</td>\n      <td>0.0</td>\n      <td>0.0</td>\n      <td>0.0</td>\n      <td>...</td>\n      <td>0.0</td>\n      <td>0.0</td>\n      <td>0.0</td>\n      <td>0.0</td>\n      <td>0.0</td>\n      <td>0.0</td>\n      <td>0.0</td>\n      <td>0.0</td>\n      <td>0.0</td>\n      <td>0.0</td>\n    </tr>\n    <tr>\n      <th>4</th>\n      <td>0.0</td>\n      <td>0.0</td>\n      <td>0.0</td>\n      <td>0.0</td>\n      <td>0.0</td>\n      <td>0.0</td>\n      <td>0.0</td>\n      <td>0.0</td>\n      <td>0.0</td>\n      <td>0.0</td>\n      <td>...</td>\n      <td>0.0</td>\n      <td>0.0</td>\n      <td>0.0</td>\n      <td>0.0</td>\n      <td>0.0</td>\n      <td>0.0</td>\n      <td>0.0</td>\n      <td>0.0</td>\n      <td>0.0</td>\n      <td>0.0</td>\n    </tr>\n    <tr>\n      <th>5</th>\n      <td>0.0</td>\n      <td>0.0</td>\n      <td>0.0</td>\n      <td>0.0</td>\n      <td>0.0</td>\n      <td>5.0</td>\n      <td>0.0</td>\n      <td>0.0</td>\n      <td>0.0</td>\n      <td>0.0</td>\n      <td>...</td>\n      <td>0.0</td>\n      <td>0.0</td>\n      <td>0.0</td>\n      <td>0.0</td>\n      <td>0.0</td>\n      <td>0.0</td>\n      <td>0.0</td>\n      <td>0.0</td>\n      <td>0.0</td>\n      <td>0.0</td>\n    </tr>\n    <tr>\n      <th>...</th>\n      <td>...</td>\n      <td>...</td>\n      <td>...</td>\n      <td>...</td>\n      <td>...</td>\n      <td>...</td>\n      <td>...</td>\n      <td>...</td>\n      <td>...</td>\n      <td>...</td>\n      <td>...</td>\n      <td>...</td>\n      <td>...</td>\n      <td>...</td>\n      <td>...</td>\n      <td>...</td>\n      <td>...</td>\n      <td>...</td>\n      <td>...</td>\n      <td>...</td>\n      <td>...</td>\n    </tr>\n    <tr>\n      <th>193573</th>\n      <td>0.0</td>\n      <td>0.0</td>\n      <td>0.0</td>\n      <td>0.0</td>\n      <td>0.0</td>\n      <td>0.0</td>\n      <td>0.0</td>\n      <td>0.0</td>\n      <td>0.0</td>\n      <td>0.0</td>\n      <td>...</td>\n      <td>0.0</td>\n      <td>0.0</td>\n      <td>0.0</td>\n      <td>0.0</td>\n      <td>0.0</td>\n      <td>0.0</td>\n      <td>0.0</td>\n      <td>0.0</td>\n      <td>0.0</td>\n      <td>0.0</td>\n    </tr>\n    <tr>\n      <th>193579</th>\n      <td>0.0</td>\n      <td>0.0</td>\n      <td>0.0</td>\n      <td>0.0</td>\n      <td>0.0</td>\n      <td>0.0</td>\n      <td>0.0</td>\n      <td>0.0</td>\n      <td>0.0</td>\n      <td>0.0</td>\n      <td>...</td>\n      <td>0.0</td>\n      <td>0.0</td>\n      <td>0.0</td>\n      <td>0.0</td>\n      <td>0.0</td>\n      <td>0.0</td>\n      <td>0.0</td>\n      <td>0.0</td>\n      <td>0.0</td>\n      <td>0.0</td>\n    </tr>\n    <tr>\n      <th>193581</th>\n      <td>0.0</td>\n      <td>0.0</td>\n      <td>0.0</td>\n      <td>0.0</td>\n      <td>0.0</td>\n      <td>0.0</td>\n      <td>0.0</td>\n      <td>0.0</td>\n      <td>0.0</td>\n      <td>0.0</td>\n      <td>...</td>\n      <td>0.0</td>\n      <td>0.0</td>\n      <td>0.0</td>\n      <td>0.0</td>\n      <td>0.0</td>\n      <td>0.0</td>\n      <td>0.0</td>\n      <td>0.0</td>\n      <td>0.0</td>\n      <td>0.0</td>\n    </tr>\n    <tr>\n      <th>193587</th>\n      <td>0.0</td>\n      <td>0.0</td>\n      <td>0.0</td>\n      <td>0.0</td>\n      <td>0.0</td>\n      <td>0.0</td>\n      <td>0.0</td>\n      <td>0.0</td>\n      <td>0.0</td>\n      <td>0.0</td>\n      <td>...</td>\n      <td>0.0</td>\n      <td>0.0</td>\n      <td>0.0</td>\n      <td>0.0</td>\n      <td>0.0</td>\n      <td>0.0</td>\n      <td>0.0</td>\n      <td>0.0</td>\n      <td>0.0</td>\n      <td>0.0</td>\n    </tr>\n    <tr>\n      <th>193609</th>\n      <td>0.0</td>\n      <td>0.0</td>\n      <td>0.0</td>\n      <td>0.0</td>\n      <td>0.0</td>\n      <td>0.0</td>\n      <td>0.0</td>\n      <td>0.0</td>\n      <td>0.0</td>\n      <td>0.0</td>\n      <td>...</td>\n      <td>0.0</td>\n      <td>0.0</td>\n      <td>0.0</td>\n      <td>0.0</td>\n      <td>0.0</td>\n      <td>0.0</td>\n      <td>0.0</td>\n      <td>0.0</td>\n      <td>0.0</td>\n      <td>0.0</td>\n    </tr>\n  </tbody>\n</table>\n<p>8938 rows × 610 columns</p>\n</div>"
     },
     "execution_count": 58,
     "metadata": {},
     "output_type": "execute_result"
    }
   ],
   "source": [
    "train_user_movie_matrix\n",
    "# user id에 대해서 movie 들이 평가를 내린다"
   ]
  },
  {
   "cell_type": "code",
   "execution_count": 59,
   "metadata": {},
   "outputs": [
    {
     "name": "stdout",
     "output_type": "stream",
     "text": [
      "(9742, 20)\n",
      "(8938, 20)\n"
     ]
    },
    {
     "data": {
      "text/plain": "         (no genres listed)  Action  Adventure  Animation  Children  Comedy  \\\nmovieId                                                                       \n5943                      0       0          0          0         0       1   \n2571                      0       1          0          0         0       0   \n8958                      0       0          0          0         0       0   \n2322                      0       1          0          0         0       0   \n2959                      0       1          0          0         0       0   \n\n         Crime  Documentary  Drama  Fantasy  Film-Noir  Horror  IMAX  Musical  \\\nmovieId                                                                         \n5943         0            0      0        0          0       0     0        0   \n2571         0            0      0        0          0       0     0        0   \n8958         0            0      1        0          0       0     0        0   \n2322         0            0      0        0          0       0     0        0   \n2959         1            0      1        0          0       0     0        0   \n\n         Mystery  Romance  Sci-Fi  Thriller  War  Western  \nmovieId                                                    \n5943           0        1       0         0    0        0  \n2571           0        0       1         1    0        0  \n8958           0        0       0         0    0        0  \n2322           0        0       1         0    1        0  \n2959           0        0       0         1    0        0  ",
      "text/html": "<div>\n<style scoped>\n    .dataframe tbody tr th:only-of-type {\n        vertical-align: middle;\n    }\n\n    .dataframe tbody tr th {\n        vertical-align: top;\n    }\n\n    .dataframe thead th {\n        text-align: right;\n    }\n</style>\n<table border=\"1\" class=\"dataframe\">\n  <thead>\n    <tr style=\"text-align: right;\">\n      <th></th>\n      <th>(no genres listed)</th>\n      <th>Action</th>\n      <th>Adventure</th>\n      <th>Animation</th>\n      <th>Children</th>\n      <th>Comedy</th>\n      <th>Crime</th>\n      <th>Documentary</th>\n      <th>Drama</th>\n      <th>Fantasy</th>\n      <th>Film-Noir</th>\n      <th>Horror</th>\n      <th>IMAX</th>\n      <th>Musical</th>\n      <th>Mystery</th>\n      <th>Romance</th>\n      <th>Sci-Fi</th>\n      <th>Thriller</th>\n      <th>War</th>\n      <th>Western</th>\n    </tr>\n    <tr>\n      <th>movieId</th>\n      <th></th>\n      <th></th>\n      <th></th>\n      <th></th>\n      <th></th>\n      <th></th>\n      <th></th>\n      <th></th>\n      <th></th>\n      <th></th>\n      <th></th>\n      <th></th>\n      <th></th>\n      <th></th>\n      <th></th>\n      <th></th>\n      <th></th>\n      <th></th>\n      <th></th>\n      <th></th>\n    </tr>\n  </thead>\n  <tbody>\n    <tr>\n      <th>5943</th>\n      <td>0</td>\n      <td>0</td>\n      <td>0</td>\n      <td>0</td>\n      <td>0</td>\n      <td>1</td>\n      <td>0</td>\n      <td>0</td>\n      <td>0</td>\n      <td>0</td>\n      <td>0</td>\n      <td>0</td>\n      <td>0</td>\n      <td>0</td>\n      <td>0</td>\n      <td>1</td>\n      <td>0</td>\n      <td>0</td>\n      <td>0</td>\n      <td>0</td>\n    </tr>\n    <tr>\n      <th>2571</th>\n      <td>0</td>\n      <td>1</td>\n      <td>0</td>\n      <td>0</td>\n      <td>0</td>\n      <td>0</td>\n      <td>0</td>\n      <td>0</td>\n      <td>0</td>\n      <td>0</td>\n      <td>0</td>\n      <td>0</td>\n      <td>0</td>\n      <td>0</td>\n      <td>0</td>\n      <td>0</td>\n      <td>1</td>\n      <td>1</td>\n      <td>0</td>\n      <td>0</td>\n    </tr>\n    <tr>\n      <th>8958</th>\n      <td>0</td>\n      <td>0</td>\n      <td>0</td>\n      <td>0</td>\n      <td>0</td>\n      <td>0</td>\n      <td>0</td>\n      <td>0</td>\n      <td>1</td>\n      <td>0</td>\n      <td>0</td>\n      <td>0</td>\n      <td>0</td>\n      <td>0</td>\n      <td>0</td>\n      <td>0</td>\n      <td>0</td>\n      <td>0</td>\n      <td>0</td>\n      <td>0</td>\n    </tr>\n    <tr>\n      <th>2322</th>\n      <td>0</td>\n      <td>1</td>\n      <td>0</td>\n      <td>0</td>\n      <td>0</td>\n      <td>0</td>\n      <td>0</td>\n      <td>0</td>\n      <td>0</td>\n      <td>0</td>\n      <td>0</td>\n      <td>0</td>\n      <td>0</td>\n      <td>0</td>\n      <td>0</td>\n      <td>0</td>\n      <td>1</td>\n      <td>0</td>\n      <td>1</td>\n      <td>0</td>\n    </tr>\n    <tr>\n      <th>2959</th>\n      <td>0</td>\n      <td>1</td>\n      <td>0</td>\n      <td>0</td>\n      <td>0</td>\n      <td>0</td>\n      <td>1</td>\n      <td>0</td>\n      <td>1</td>\n      <td>0</td>\n      <td>0</td>\n      <td>0</td>\n      <td>0</td>\n      <td>0</td>\n      <td>0</td>\n      <td>0</td>\n      <td>0</td>\n      <td>1</td>\n      <td>0</td>\n      <td>0</td>\n    </tr>\n  </tbody>\n</table>\n</div>"
     },
     "execution_count": 59,
     "metadata": {},
     "output_type": "execute_result"
    }
   ],
   "source": [
    "genres_df = movies_df['genres'].str.get_dummies(sep='|')\n",
    "print(genres_df.shape)\n",
    "genres_df = genres_df.loc[train_df.movieId.unique()]\n",
    "print(genres_df.shape)\n",
    "genres_df.head()\n",
    "# movie 별 장르 one hot encoding"
   ]
  },
  {
   "cell_type": "code",
   "execution_count": 60,
   "metadata": {},
   "outputs": [
    {
     "data": {
      "text/plain": "movieId\n1    3.893491\n2    3.396341\n3    3.454545\n4    2.250000\n5    3.039474\ndtype: float64"
     },
     "execution_count": 60,
     "metadata": {},
     "output_type": "execute_result"
    }
   ],
   "source": [
    "# train set에서 영화별 유저 평점 평균\n",
    "train_movie_avg_ratings_df = train_user_movie_matrix.copy()\n",
    "train_movie_avg_ratings_df = train_movie_avg_ratings_df.replace(0, np.NaN)\n",
    "train_movie_avg_ratings_df = train_movie_avg_ratings_df.mean(axis = 1)\n",
    "\n",
    "train_movie_avg_ratings_df.head()"
   ]
  },
  {
   "cell_type": "code",
   "execution_count": 61,
   "metadata": {},
   "outputs": [
    {
     "data": {
      "text/plain": "                   avg_ratings\n(no genres listed)     3.33642\nAction                 3.11085\nAdventure             3.230721\nAnimation             3.492258\nChildren              3.101232\nComedy                 3.18148\nCrime                 3.313588\nDocumentary           3.801026\nDrama                 3.429093\nFantasy               3.240257\nFilm-Noir              3.72647\nHorror                2.910431\nIMAX                  3.275753\nMusical               3.288635\nMystery               3.343246\nRomance                3.35426\nSci-Fi                3.130823\nThriller              3.173302\nWar                   3.571317\nWestern               3.397687",
      "text/html": "<div>\n<style scoped>\n    .dataframe tbody tr th:only-of-type {\n        vertical-align: middle;\n    }\n\n    .dataframe tbody tr th {\n        vertical-align: top;\n    }\n\n    .dataframe thead th {\n        text-align: right;\n    }\n</style>\n<table border=\"1\" class=\"dataframe\">\n  <thead>\n    <tr style=\"text-align: right;\">\n      <th></th>\n      <th>avg_ratings</th>\n    </tr>\n  </thead>\n  <tbody>\n    <tr>\n      <th>(no genres listed)</th>\n      <td>3.33642</td>\n    </tr>\n    <tr>\n      <th>Action</th>\n      <td>3.11085</td>\n    </tr>\n    <tr>\n      <th>Adventure</th>\n      <td>3.230721</td>\n    </tr>\n    <tr>\n      <th>Animation</th>\n      <td>3.492258</td>\n    </tr>\n    <tr>\n      <th>Children</th>\n      <td>3.101232</td>\n    </tr>\n    <tr>\n      <th>Comedy</th>\n      <td>3.18148</td>\n    </tr>\n    <tr>\n      <th>Crime</th>\n      <td>3.313588</td>\n    </tr>\n    <tr>\n      <th>Documentary</th>\n      <td>3.801026</td>\n    </tr>\n    <tr>\n      <th>Drama</th>\n      <td>3.429093</td>\n    </tr>\n    <tr>\n      <th>Fantasy</th>\n      <td>3.240257</td>\n    </tr>\n    <tr>\n      <th>Film-Noir</th>\n      <td>3.72647</td>\n    </tr>\n    <tr>\n      <th>Horror</th>\n      <td>2.910431</td>\n    </tr>\n    <tr>\n      <th>IMAX</th>\n      <td>3.275753</td>\n    </tr>\n    <tr>\n      <th>Musical</th>\n      <td>3.288635</td>\n    </tr>\n    <tr>\n      <th>Mystery</th>\n      <td>3.343246</td>\n    </tr>\n    <tr>\n      <th>Romance</th>\n      <td>3.35426</td>\n    </tr>\n    <tr>\n      <th>Sci-Fi</th>\n      <td>3.130823</td>\n    </tr>\n    <tr>\n      <th>Thriller</th>\n      <td>3.173302</td>\n    </tr>\n    <tr>\n      <th>War</th>\n      <td>3.571317</td>\n    </tr>\n    <tr>\n      <th>Western</th>\n      <td>3.397687</td>\n    </tr>\n  </tbody>\n</table>\n</div>"
     },
     "execution_count": 61,
     "metadata": {},
     "output_type": "execute_result"
    }
   ],
   "source": [
    "# genres_df에서 해당 장르가 포함된 모든 영화 index를 가져와서, 해당 영화의 유저 평균 평점의 평균을 구해서 장르 평균 평점으로 활용\n",
    "# 장르의 평균 평점 계산\n",
    "\n",
    "genres_avg_ratings_df = pd.DataFrame(index=genres_df.columns, columns=['avg_ratings'])\n",
    "\n",
    "for genre in genres_avg_ratings_df.index:\n",
    "    genre_avg_rating = train_movie_avg_ratings_df.loc[genres_df[genres_df[genre].isin([1])].index].mean()\n",
    "    genres_avg_ratings_df.loc[genre]['avg_ratings'] = genre_avg_rating\n",
    "\n",
    "genres_avg_ratings_df"
   ]
  },
  {
   "cell_type": "code",
   "execution_count": 62,
   "metadata": {},
   "outputs": [],
   "source": [
    "## movie id의 장르를 찾고\n",
    "# 해당되는 복수의 장르들의 평균을 구함\n",
    "def get_genre_avg_ratings(x):\n",
    "    genres_list = movies_df.loc[x]['genres'].split('|')\n",
    "    rating = 0\n",
    "    for genre in genres_list:\n",
    "        rating += genres_avg_ratings_df.loc[genre]['avg_ratings']\n",
    "    \n",
    "    return rating / len(genres_list)"
   ]
  },
  {
   "cell_type": "code",
   "execution_count": 63,
   "metadata": {},
   "outputs": [
    {
     "name": "stderr",
     "output_type": "stream",
     "text": [
      "100%|██████████| 20168/20168 [00:03<00:00, 6510.23it/s]\n"
     ]
    }
   ],
   "source": [
    "tqdm.pandas()\n",
    "# rating을 장르 기준으로 예측\n",
    "test_df['pred_rating_genre'] = test_df['movieId'].progress_apply(lambda x: get_genre_avg_ratings(x))"
   ]
  },
  {
   "cell_type": "code",
   "execution_count": 65,
   "metadata": {},
   "outputs": [
    {
     "data": {
      "text/plain": "       userId  movieId  rating   timestamp  pred_ratings_random  \\\n99731     610     3527     5.0  1479545223                  2.0   \n97583     606     1250     3.5  1171376891                  5.0   \n38197     262      213     5.0   840310907                  3.5   \n11474      68    69406     3.0  1261622505                  4.0   \n34105     232     4728     3.0  1218166950                  4.5   \n...       ...      ...     ...         ...                  ...   \n41080     279      593     4.0  1506394242                  2.0   \n4897       31      780     4.0   850466616                  2.5   \n8023       56      410     3.0   835799188                  2.0   \n77467     483     2291     4.0  1415579167                  1.0   \n99662     610     1953     5.0  1493850274                  1.0   \n\n       pred_rating_movie  pred_rating_user  pred_rating_genre  \n99731           3.604167          3.678709           3.138325  \n97583           4.180556          3.649718           3.410377  \n38197           3.750000          2.925000           3.429093  \n11474           3.571429          3.229331           3.267870  \n34105           2.769231          3.242268           3.181480  \n...                  ...               ...                ...  \n41080           4.127907          3.666667           3.132440  \n4897            3.470760          3.911765           3.161424  \n8023            3.131148          3.837838           3.174323  \n77467           3.734375          3.598940           3.341203  \n99662           3.822581          3.678709           3.199247  \n\n[20168 rows x 8 columns]",
      "text/html": "<div>\n<style scoped>\n    .dataframe tbody tr th:only-of-type {\n        vertical-align: middle;\n    }\n\n    .dataframe tbody tr th {\n        vertical-align: top;\n    }\n\n    .dataframe thead th {\n        text-align: right;\n    }\n</style>\n<table border=\"1\" class=\"dataframe\">\n  <thead>\n    <tr style=\"text-align: right;\">\n      <th></th>\n      <th>userId</th>\n      <th>movieId</th>\n      <th>rating</th>\n      <th>timestamp</th>\n      <th>pred_ratings_random</th>\n      <th>pred_rating_movie</th>\n      <th>pred_rating_user</th>\n      <th>pred_rating_genre</th>\n    </tr>\n  </thead>\n  <tbody>\n    <tr>\n      <th>99731</th>\n      <td>610</td>\n      <td>3527</td>\n      <td>5.0</td>\n      <td>1479545223</td>\n      <td>2.0</td>\n      <td>3.604167</td>\n      <td>3.678709</td>\n      <td>3.138325</td>\n    </tr>\n    <tr>\n      <th>97583</th>\n      <td>606</td>\n      <td>1250</td>\n      <td>3.5</td>\n      <td>1171376891</td>\n      <td>5.0</td>\n      <td>4.180556</td>\n      <td>3.649718</td>\n      <td>3.410377</td>\n    </tr>\n    <tr>\n      <th>38197</th>\n      <td>262</td>\n      <td>213</td>\n      <td>5.0</td>\n      <td>840310907</td>\n      <td>3.5</td>\n      <td>3.750000</td>\n      <td>2.925000</td>\n      <td>3.429093</td>\n    </tr>\n    <tr>\n      <th>11474</th>\n      <td>68</td>\n      <td>69406</td>\n      <td>3.0</td>\n      <td>1261622505</td>\n      <td>4.0</td>\n      <td>3.571429</td>\n      <td>3.229331</td>\n      <td>3.267870</td>\n    </tr>\n    <tr>\n      <th>34105</th>\n      <td>232</td>\n      <td>4728</td>\n      <td>3.0</td>\n      <td>1218166950</td>\n      <td>4.5</td>\n      <td>2.769231</td>\n      <td>3.242268</td>\n      <td>3.181480</td>\n    </tr>\n    <tr>\n      <th>...</th>\n      <td>...</td>\n      <td>...</td>\n      <td>...</td>\n      <td>...</td>\n      <td>...</td>\n      <td>...</td>\n      <td>...</td>\n      <td>...</td>\n    </tr>\n    <tr>\n      <th>41080</th>\n      <td>279</td>\n      <td>593</td>\n      <td>4.0</td>\n      <td>1506394242</td>\n      <td>2.0</td>\n      <td>4.127907</td>\n      <td>3.666667</td>\n      <td>3.132440</td>\n    </tr>\n    <tr>\n      <th>4897</th>\n      <td>31</td>\n      <td>780</td>\n      <td>4.0</td>\n      <td>850466616</td>\n      <td>2.5</td>\n      <td>3.470760</td>\n      <td>3.911765</td>\n      <td>3.161424</td>\n    </tr>\n    <tr>\n      <th>8023</th>\n      <td>56</td>\n      <td>410</td>\n      <td>3.0</td>\n      <td>835799188</td>\n      <td>2.0</td>\n      <td>3.131148</td>\n      <td>3.837838</td>\n      <td>3.174323</td>\n    </tr>\n    <tr>\n      <th>77467</th>\n      <td>483</td>\n      <td>2291</td>\n      <td>4.0</td>\n      <td>1415579167</td>\n      <td>1.0</td>\n      <td>3.734375</td>\n      <td>3.598940</td>\n      <td>3.341203</td>\n    </tr>\n    <tr>\n      <th>99662</th>\n      <td>610</td>\n      <td>1953</td>\n      <td>5.0</td>\n      <td>1493850274</td>\n      <td>1.0</td>\n      <td>3.822581</td>\n      <td>3.678709</td>\n      <td>3.199247</td>\n    </tr>\n  </tbody>\n</table>\n<p>20168 rows × 8 columns</p>\n</div>"
     },
     "execution_count": 65,
     "metadata": {},
     "output_type": "execute_result"
    }
   ],
   "source": [
    "test_df"
   ]
  },
  {
   "cell_type": "code",
   "execution_count": 36,
   "metadata": {},
   "outputs": [
    {
     "name": "stdout",
     "output_type": "stream",
     "text": [
      "1.1251906030478556 1.0607500191128236\n"
     ]
    }
   ],
   "source": [
    "# 장르 rating을 기준으로 rating rmse을 계산\n",
    "mse = mean_squared_error(y_true=test_df['rating'].values, y_pred=test_df['pred_rating_genre'].values)\n",
    "rmse = np.sqrt(mse)\n",
    "\n",
    "print(mse, rmse)\n",
    "\n",
    "## 장르도 마찬가지로 영화 id 기반으로 rating을 계산\n",
    "# 영화의 평균 평점으로 예측한 것과 굉장히 흡사하게 나옴\n",
    "# 유저의 영화 평균 평점을 가지고 예측한 것이 더 낫다\n",
    "# 유저가 영화 평균 평점을 매기는 것이기 때문에 개별 유저의 성향을 파악하는 것이 추천시스템의 결정적인 밑받침이 된다"
   ]
  },
  {
   "cell_type": "markdown",
   "metadata": {},
   "source": [
    "### Rule 기반 영화 평점 예측하기\n",
    "\n",
    "2. user의 평균 영화 평점을 normalize해서 확인하기, 평점 측정 수, 표준편차 등 활용가능 "
   ]
  },
  {
   "cell_type": "code",
   "execution_count": 67,
   "metadata": {},
   "outputs": [
    {
     "data": {
      "text/plain": "        avg_ratings  std_ratings  count_ratings\nuserId                                         \n1          4.320652     0.836600            184\n2          3.940000     0.820569             25\n3          2.516667     2.127340             30\n4          3.631868     1.317823            182\n5          3.636364     1.084498             33\n...             ...          ...            ...\n606        3.649718     0.734887            885\n607        3.772414     0.955574            145\n608        3.145865     1.071503            665\n609        3.275862     0.454859             29\n610        3.678709     0.863712           1038\n\n[610 rows x 3 columns]",
      "text/html": "<div>\n<style scoped>\n    .dataframe tbody tr th:only-of-type {\n        vertical-align: middle;\n    }\n\n    .dataframe tbody tr th {\n        vertical-align: top;\n    }\n\n    .dataframe thead th {\n        text-align: right;\n    }\n</style>\n<table border=\"1\" class=\"dataframe\">\n  <thead>\n    <tr style=\"text-align: right;\">\n      <th></th>\n      <th>avg_ratings</th>\n      <th>std_ratings</th>\n      <th>count_ratings</th>\n    </tr>\n    <tr>\n      <th>userId</th>\n      <th></th>\n      <th></th>\n      <th></th>\n    </tr>\n  </thead>\n  <tbody>\n    <tr>\n      <th>1</th>\n      <td>4.320652</td>\n      <td>0.836600</td>\n      <td>184</td>\n    </tr>\n    <tr>\n      <th>2</th>\n      <td>3.940000</td>\n      <td>0.820569</td>\n      <td>25</td>\n    </tr>\n    <tr>\n      <th>3</th>\n      <td>2.516667</td>\n      <td>2.127340</td>\n      <td>30</td>\n    </tr>\n    <tr>\n      <th>4</th>\n      <td>3.631868</td>\n      <td>1.317823</td>\n      <td>182</td>\n    </tr>\n    <tr>\n      <th>5</th>\n      <td>3.636364</td>\n      <td>1.084498</td>\n      <td>33</td>\n    </tr>\n    <tr>\n      <th>...</th>\n      <td>...</td>\n      <td>...</td>\n      <td>...</td>\n    </tr>\n    <tr>\n      <th>606</th>\n      <td>3.649718</td>\n      <td>0.734887</td>\n      <td>885</td>\n    </tr>\n    <tr>\n      <th>607</th>\n      <td>3.772414</td>\n      <td>0.955574</td>\n      <td>145</td>\n    </tr>\n    <tr>\n      <th>608</th>\n      <td>3.145865</td>\n      <td>1.071503</td>\n      <td>665</td>\n    </tr>\n    <tr>\n      <th>609</th>\n      <td>3.275862</td>\n      <td>0.454859</td>\n      <td>29</td>\n    </tr>\n    <tr>\n      <th>610</th>\n      <td>3.678709</td>\n      <td>0.863712</td>\n      <td>1038</td>\n    </tr>\n  </tbody>\n</table>\n<p>610 rows × 3 columns</p>\n</div>"
     },
     "execution_count": 67,
     "metadata": {},
     "output_type": "execute_result"
    }
   ],
   "source": [
    "train_user_info_df = pd.DataFrame({\n",
    "    'avg_ratings': train_df.groupby('userId')['rating'].mean(),\n",
    "    'std_ratings': train_df.groupby('userId')['rating'].std(),\n",
    "    'count_ratings': train_df.groupby('userId')['rating'].count()\n",
    "})\n",
    "\n",
    "train_user_info_df\n",
    "# 각 유저별 평균 평점, 표준편차, 평가 개수 보기\n",
    "# 평가 개수가 적으면 상대적으로 신뢰도가 떨어진다"
   ]
  },
  {
   "cell_type": "code",
   "execution_count": 70,
   "metadata": {},
   "outputs": [],
   "source": [
    "# 평가 개수를 기반으로 가중치를 계산\n",
    "min_count = train_user_info_df['count_ratings'].min()\n",
    "max_count = train_user_info_df['count_ratings'].max()\n",
    "avg_count = train_user_info_df['count_ratings'].mean()\n",
    "\n",
    "train_user_info_df['weights'] = train_user_info_df['count_ratings'].apply(lambda x: (x-avg_count)/(max_count-min_count))"
   ]
  },
  {
   "cell_type": "code",
   "execution_count": 71,
   "metadata": {},
   "outputs": [
    {
     "data": {
      "text/plain": "        avg_ratings  std_ratings  count_ratings   weights\nuserId                                                   \n1          4.320652     0.836600            184  0.023995\n2          3.940000     0.820569             25 -0.049718\n3          2.516667     2.127340             30 -0.047400\n4          3.631868     1.317823            182  0.023068\n5          3.636364     1.084498             33 -0.046010\n...             ...          ...            ...       ...\n606        3.649718     0.734887            885  0.348983\n607        3.772414     0.955574            145  0.005914\n608        3.145865     1.071503            665  0.246990\n609        3.275862     0.454859             29 -0.047864\n610        3.678709     0.863712           1038  0.419915\n\n[610 rows x 4 columns]",
      "text/html": "<div>\n<style scoped>\n    .dataframe tbody tr th:only-of-type {\n        vertical-align: middle;\n    }\n\n    .dataframe tbody tr th {\n        vertical-align: top;\n    }\n\n    .dataframe thead th {\n        text-align: right;\n    }\n</style>\n<table border=\"1\" class=\"dataframe\">\n  <thead>\n    <tr style=\"text-align: right;\">\n      <th></th>\n      <th>avg_ratings</th>\n      <th>std_ratings</th>\n      <th>count_ratings</th>\n      <th>weights</th>\n    </tr>\n    <tr>\n      <th>userId</th>\n      <th></th>\n      <th></th>\n      <th></th>\n      <th></th>\n    </tr>\n  </thead>\n  <tbody>\n    <tr>\n      <th>1</th>\n      <td>4.320652</td>\n      <td>0.836600</td>\n      <td>184</td>\n      <td>0.023995</td>\n    </tr>\n    <tr>\n      <th>2</th>\n      <td>3.940000</td>\n      <td>0.820569</td>\n      <td>25</td>\n      <td>-0.049718</td>\n    </tr>\n    <tr>\n      <th>3</th>\n      <td>2.516667</td>\n      <td>2.127340</td>\n      <td>30</td>\n      <td>-0.047400</td>\n    </tr>\n    <tr>\n      <th>4</th>\n      <td>3.631868</td>\n      <td>1.317823</td>\n      <td>182</td>\n      <td>0.023068</td>\n    </tr>\n    <tr>\n      <th>5</th>\n      <td>3.636364</td>\n      <td>1.084498</td>\n      <td>33</td>\n      <td>-0.046010</td>\n    </tr>\n    <tr>\n      <th>...</th>\n      <td>...</td>\n      <td>...</td>\n      <td>...</td>\n      <td>...</td>\n    </tr>\n    <tr>\n      <th>606</th>\n      <td>3.649718</td>\n      <td>0.734887</td>\n      <td>885</td>\n      <td>0.348983</td>\n    </tr>\n    <tr>\n      <th>607</th>\n      <td>3.772414</td>\n      <td>0.955574</td>\n      <td>145</td>\n      <td>0.005914</td>\n    </tr>\n    <tr>\n      <th>608</th>\n      <td>3.145865</td>\n      <td>1.071503</td>\n      <td>665</td>\n      <td>0.246990</td>\n    </tr>\n    <tr>\n      <th>609</th>\n      <td>3.275862</td>\n      <td>0.454859</td>\n      <td>29</td>\n      <td>-0.047864</td>\n    </tr>\n    <tr>\n      <th>610</th>\n      <td>3.678709</td>\n      <td>0.863712</td>\n      <td>1038</td>\n      <td>0.419915</td>\n    </tr>\n  </tbody>\n</table>\n<p>610 rows × 4 columns</p>\n</div>"
     },
     "execution_count": 71,
     "metadata": {},
     "output_type": "execute_result"
    }
   ],
   "source": [
    "train_user_info_df"
   ]
  },
  {
   "cell_type": "code",
   "execution_count": 73,
   "metadata": {},
   "outputs": [
    {
     "data": {
      "text/plain": "        avg_ratings  std_ratings  count_ratings   weights\nuserId                                                   \n1          0.822227     0.393261       0.079740  0.079740\n2          0.722617     0.385725       0.006027  0.006027\n3          0.350156     1.000000       0.008345  0.008345\n4          0.641984     0.619470       0.078813  0.078813\n5          0.643161     0.509791       0.009736  0.009736\n...             ...          ...            ...       ...\n606        0.646655     0.345449       0.404729  0.404729\n607        0.678762     0.449188       0.061660  0.061660\n608        0.514806     0.503682       0.302735  0.302735\n609        0.548824     0.213816       0.007881  0.007881\n610        0.654242     0.406005       0.475661  0.475661\n\n[610 rows x 4 columns]",
      "text/html": "<div>\n<style scoped>\n    .dataframe tbody tr th:only-of-type {\n        vertical-align: middle;\n    }\n\n    .dataframe tbody tr th {\n        vertical-align: top;\n    }\n\n    .dataframe thead th {\n        text-align: right;\n    }\n</style>\n<table border=\"1\" class=\"dataframe\">\n  <thead>\n    <tr style=\"text-align: right;\">\n      <th></th>\n      <th>avg_ratings</th>\n      <th>std_ratings</th>\n      <th>count_ratings</th>\n      <th>weights</th>\n    </tr>\n    <tr>\n      <th>userId</th>\n      <th></th>\n      <th></th>\n      <th></th>\n      <th></th>\n    </tr>\n  </thead>\n  <tbody>\n    <tr>\n      <th>1</th>\n      <td>0.822227</td>\n      <td>0.393261</td>\n      <td>0.079740</td>\n      <td>0.079740</td>\n    </tr>\n    <tr>\n      <th>2</th>\n      <td>0.722617</td>\n      <td>0.385725</td>\n      <td>0.006027</td>\n      <td>0.006027</td>\n    </tr>\n    <tr>\n      <th>3</th>\n      <td>0.350156</td>\n      <td>1.000000</td>\n      <td>0.008345</td>\n      <td>0.008345</td>\n    </tr>\n    <tr>\n      <th>4</th>\n      <td>0.641984</td>\n      <td>0.619470</td>\n      <td>0.078813</td>\n      <td>0.078813</td>\n    </tr>\n    <tr>\n      <th>5</th>\n      <td>0.643161</td>\n      <td>0.509791</td>\n      <td>0.009736</td>\n      <td>0.009736</td>\n    </tr>\n    <tr>\n      <th>...</th>\n      <td>...</td>\n      <td>...</td>\n      <td>...</td>\n      <td>...</td>\n    </tr>\n    <tr>\n      <th>606</th>\n      <td>0.646655</td>\n      <td>0.345449</td>\n      <td>0.404729</td>\n      <td>0.404729</td>\n    </tr>\n    <tr>\n      <th>607</th>\n      <td>0.678762</td>\n      <td>0.449188</td>\n      <td>0.061660</td>\n      <td>0.061660</td>\n    </tr>\n    <tr>\n      <th>608</th>\n      <td>0.514806</td>\n      <td>0.503682</td>\n      <td>0.302735</td>\n      <td>0.302735</td>\n    </tr>\n    <tr>\n      <th>609</th>\n      <td>0.548824</td>\n      <td>0.213816</td>\n      <td>0.007881</td>\n      <td>0.007881</td>\n    </tr>\n    <tr>\n      <th>610</th>\n      <td>0.654242</td>\n      <td>0.406005</td>\n      <td>0.475661</td>\n      <td>0.475661</td>\n    </tr>\n  </tbody>\n</table>\n<p>610 rows × 4 columns</p>\n</div>"
     },
     "execution_count": 73,
     "metadata": {},
     "output_type": "execute_result"
    }
   ],
   "source": [
    "# 사실 정규화는 큰 의미를 가지지 않는다. 왜냐하면 평점은 0 ~ 5 안에서 형성되기 때문에, 하지만 스케일이 중구난방이라면 normalize를 사용하는 편이 좋다\n",
    "from sklearn import preprocessing\n",
    "\n",
    "min_max_scaler = preprocessing.MinMaxScaler()\n",
    "np_scaled = min_max_scaler.fit_transform(train_user_info_df)\n",
    "df_normalized = pd.DataFrame(np_scaled, columns = train_user_info_df.columns, index=train_user_info_df.index)\n",
    "df_normalized"
   ]
  },
  {
   "cell_type": "code",
   "execution_count": 74,
   "metadata": {},
   "outputs": [
    {
     "data": {
      "text/plain": "        avg_ratings  std_ratings  count_ratings   weights  \\\nuserId                                                      \n1          0.822227     0.393261       0.079740  0.079740   \n2          0.722617     0.385725       0.006027  0.006027   \n3          0.350156     1.000000       0.008345  0.008345   \n4          0.641984     0.619470       0.078813  0.078813   \n5          0.643161     0.509791       0.009736  0.009736   \n...             ...          ...            ...       ...   \n606        0.646655     0.345449       0.404729  0.404729   \n607        0.678762     0.449188       0.061660  0.061660   \n608        0.514806     0.503682       0.302735  0.302735   \n609        0.548824     0.213816       0.007881  0.007881   \n610        0.654242     0.406005       0.475661  0.475661   \n\n        normalized_avg_ratings  \nuserId                          \n1                     4.111134  \n2                     3.613084  \n3                     1.750779  \n4                     3.209921  \n5                     3.215803  \n...                        ...  \n606                   3.233275  \n607                   3.393812  \n608                   2.574029  \n609                   2.744119  \n610                   3.271208  \n\n[610 rows x 5 columns]",
      "text/html": "<div>\n<style scoped>\n    .dataframe tbody tr th:only-of-type {\n        vertical-align: middle;\n    }\n\n    .dataframe tbody tr th {\n        vertical-align: top;\n    }\n\n    .dataframe thead th {\n        text-align: right;\n    }\n</style>\n<table border=\"1\" class=\"dataframe\">\n  <thead>\n    <tr style=\"text-align: right;\">\n      <th></th>\n      <th>avg_ratings</th>\n      <th>std_ratings</th>\n      <th>count_ratings</th>\n      <th>weights</th>\n      <th>normalized_avg_ratings</th>\n    </tr>\n    <tr>\n      <th>userId</th>\n      <th></th>\n      <th></th>\n      <th></th>\n      <th></th>\n      <th></th>\n    </tr>\n  </thead>\n  <tbody>\n    <tr>\n      <th>1</th>\n      <td>0.822227</td>\n      <td>0.393261</td>\n      <td>0.079740</td>\n      <td>0.079740</td>\n      <td>4.111134</td>\n    </tr>\n    <tr>\n      <th>2</th>\n      <td>0.722617</td>\n      <td>0.385725</td>\n      <td>0.006027</td>\n      <td>0.006027</td>\n      <td>3.613084</td>\n    </tr>\n    <tr>\n      <th>3</th>\n      <td>0.350156</td>\n      <td>1.000000</td>\n      <td>0.008345</td>\n      <td>0.008345</td>\n      <td>1.750779</td>\n    </tr>\n    <tr>\n      <th>4</th>\n      <td>0.641984</td>\n      <td>0.619470</td>\n      <td>0.078813</td>\n      <td>0.078813</td>\n      <td>3.209921</td>\n    </tr>\n    <tr>\n      <th>5</th>\n      <td>0.643161</td>\n      <td>0.509791</td>\n      <td>0.009736</td>\n      <td>0.009736</td>\n      <td>3.215803</td>\n    </tr>\n    <tr>\n      <th>...</th>\n      <td>...</td>\n      <td>...</td>\n      <td>...</td>\n      <td>...</td>\n      <td>...</td>\n    </tr>\n    <tr>\n      <th>606</th>\n      <td>0.646655</td>\n      <td>0.345449</td>\n      <td>0.404729</td>\n      <td>0.404729</td>\n      <td>3.233275</td>\n    </tr>\n    <tr>\n      <th>607</th>\n      <td>0.678762</td>\n      <td>0.449188</td>\n      <td>0.061660</td>\n      <td>0.061660</td>\n      <td>3.393812</td>\n    </tr>\n    <tr>\n      <th>608</th>\n      <td>0.514806</td>\n      <td>0.503682</td>\n      <td>0.302735</td>\n      <td>0.302735</td>\n      <td>2.574029</td>\n    </tr>\n    <tr>\n      <th>609</th>\n      <td>0.548824</td>\n      <td>0.213816</td>\n      <td>0.007881</td>\n      <td>0.007881</td>\n      <td>2.744119</td>\n    </tr>\n    <tr>\n      <th>610</th>\n      <td>0.654242</td>\n      <td>0.406005</td>\n      <td>0.475661</td>\n      <td>0.475661</td>\n      <td>3.271208</td>\n    </tr>\n  </tbody>\n</table>\n<p>610 rows × 5 columns</p>\n</div>"
     },
     "execution_count": 74,
     "metadata": {},
     "output_type": "execute_result"
    }
   ],
   "source": [
    "df_normalized['normalized_avg_ratings'] = df_normalized['avg_ratings'] * 5\n",
    "df_normalized"
   ]
  },
  {
   "cell_type": "code",
   "execution_count": 75,
   "metadata": {},
   "outputs": [
    {
     "data": {
      "text/plain": "       userId  movieId  rating   timestamp  pred_ratings_random  \\\n99731     610     3527     5.0  1479545223                  2.0   \n97583     606     1250     3.5  1171376891                  5.0   \n38197     262      213     5.0   840310907                  3.5   \n11474      68    69406     3.0  1261622505                  4.0   \n34105     232     4728     3.0  1218166950                  4.5   \n...       ...      ...     ...         ...                  ...   \n41080     279      593     4.0  1506394242                  2.0   \n4897       31      780     4.0   850466616                  2.5   \n8023       56      410     3.0   835799188                  2.0   \n77467     483     2291     4.0  1415579167                  1.0   \n99662     610     1953     5.0  1493850274                  1.0   \n\n       pred_rating_movie  pred_rating_user  pred_rating_genre  \\\n99731           3.604167          3.678709           3.138325   \n97583           4.180556          3.649718           3.410377   \n38197           3.750000          2.925000           3.429093   \n11474           3.571429          3.229331           3.267870   \n34105           2.769231          3.242268           3.181480   \n...                  ...               ...                ...   \n41080           4.127907          3.666667           3.132440   \n4897            3.470760          3.911765           3.161424   \n8023            3.131148          3.837838           3.174323   \n77467           3.734375          3.598940           3.341203   \n99662           3.822581          3.678709           3.199247   \n\n       pred_rating_normalized  \n99731                3.271208  \n97583                3.233275  \n38197                2.285047  \n11474                2.683236  \n34105                2.700164  \n...                       ...  \n41080                3.255452  \n4897                 3.576141  \n8023                 3.479414  \n77467                3.166837  \n99662                3.271208  \n\n[20168 rows x 9 columns]",
      "text/html": "<div>\n<style scoped>\n    .dataframe tbody tr th:only-of-type {\n        vertical-align: middle;\n    }\n\n    .dataframe tbody tr th {\n        vertical-align: top;\n    }\n\n    .dataframe thead th {\n        text-align: right;\n    }\n</style>\n<table border=\"1\" class=\"dataframe\">\n  <thead>\n    <tr style=\"text-align: right;\">\n      <th></th>\n      <th>userId</th>\n      <th>movieId</th>\n      <th>rating</th>\n      <th>timestamp</th>\n      <th>pred_ratings_random</th>\n      <th>pred_rating_movie</th>\n      <th>pred_rating_user</th>\n      <th>pred_rating_genre</th>\n      <th>pred_rating_normalized</th>\n    </tr>\n  </thead>\n  <tbody>\n    <tr>\n      <th>99731</th>\n      <td>610</td>\n      <td>3527</td>\n      <td>5.0</td>\n      <td>1479545223</td>\n      <td>2.0</td>\n      <td>3.604167</td>\n      <td>3.678709</td>\n      <td>3.138325</td>\n      <td>3.271208</td>\n    </tr>\n    <tr>\n      <th>97583</th>\n      <td>606</td>\n      <td>1250</td>\n      <td>3.5</td>\n      <td>1171376891</td>\n      <td>5.0</td>\n      <td>4.180556</td>\n      <td>3.649718</td>\n      <td>3.410377</td>\n      <td>3.233275</td>\n    </tr>\n    <tr>\n      <th>38197</th>\n      <td>262</td>\n      <td>213</td>\n      <td>5.0</td>\n      <td>840310907</td>\n      <td>3.5</td>\n      <td>3.750000</td>\n      <td>2.925000</td>\n      <td>3.429093</td>\n      <td>2.285047</td>\n    </tr>\n    <tr>\n      <th>11474</th>\n      <td>68</td>\n      <td>69406</td>\n      <td>3.0</td>\n      <td>1261622505</td>\n      <td>4.0</td>\n      <td>3.571429</td>\n      <td>3.229331</td>\n      <td>3.267870</td>\n      <td>2.683236</td>\n    </tr>\n    <tr>\n      <th>34105</th>\n      <td>232</td>\n      <td>4728</td>\n      <td>3.0</td>\n      <td>1218166950</td>\n      <td>4.5</td>\n      <td>2.769231</td>\n      <td>3.242268</td>\n      <td>3.181480</td>\n      <td>2.700164</td>\n    </tr>\n    <tr>\n      <th>...</th>\n      <td>...</td>\n      <td>...</td>\n      <td>...</td>\n      <td>...</td>\n      <td>...</td>\n      <td>...</td>\n      <td>...</td>\n      <td>...</td>\n      <td>...</td>\n    </tr>\n    <tr>\n      <th>41080</th>\n      <td>279</td>\n      <td>593</td>\n      <td>4.0</td>\n      <td>1506394242</td>\n      <td>2.0</td>\n      <td>4.127907</td>\n      <td>3.666667</td>\n      <td>3.132440</td>\n      <td>3.255452</td>\n    </tr>\n    <tr>\n      <th>4897</th>\n      <td>31</td>\n      <td>780</td>\n      <td>4.0</td>\n      <td>850466616</td>\n      <td>2.5</td>\n      <td>3.470760</td>\n      <td>3.911765</td>\n      <td>3.161424</td>\n      <td>3.576141</td>\n    </tr>\n    <tr>\n      <th>8023</th>\n      <td>56</td>\n      <td>410</td>\n      <td>3.0</td>\n      <td>835799188</td>\n      <td>2.0</td>\n      <td>3.131148</td>\n      <td>3.837838</td>\n      <td>3.174323</td>\n      <td>3.479414</td>\n    </tr>\n    <tr>\n      <th>77467</th>\n      <td>483</td>\n      <td>2291</td>\n      <td>4.0</td>\n      <td>1415579167</td>\n      <td>1.0</td>\n      <td>3.734375</td>\n      <td>3.598940</td>\n      <td>3.341203</td>\n      <td>3.166837</td>\n    </tr>\n    <tr>\n      <th>99662</th>\n      <td>610</td>\n      <td>1953</td>\n      <td>5.0</td>\n      <td>1493850274</td>\n      <td>1.0</td>\n      <td>3.822581</td>\n      <td>3.678709</td>\n      <td>3.199247</td>\n      <td>3.271208</td>\n    </tr>\n  </tbody>\n</table>\n<p>20168 rows × 9 columns</p>\n</div>"
     },
     "execution_count": 75,
     "metadata": {},
     "output_type": "execute_result"
    }
   ],
   "source": [
    "test_df['pred_rating_normalized'] = test_df['userId'].apply(lambda x: df_normalized.loc[x]['normalized_avg_ratings'])\n",
    "test_df"
   ]
  },
  {
   "cell_type": "code",
   "execution_count": 76,
   "metadata": {},
   "outputs": [
    {
     "name": "stdout",
     "output_type": "stream",
     "text": [
      "1.120579096060227 1.05857408624065\n"
     ]
    }
   ],
   "source": [
    "mse = mean_squared_error(y_true=test_df['rating'].values, y_pred=test_df['pred_rating_normalized'].values)\n",
    "rmse = np.sqrt(mse)\n",
    "\n",
    "print(mse, rmse)"
   ]
  },
  {
   "cell_type": "code",
   "execution_count": null,
   "metadata": {},
   "outputs": [],
   "source": []
  }
 ],
 "metadata": {
  "kernelspec": {
   "display_name": "Python 3",
   "language": "python",
   "name": "python3"
  },
  "language_info": {
   "codemirror_mode": {
    "name": "ipython",
    "version": 3
   },
   "file_extension": ".py",
   "mimetype": "text/x-python",
   "name": "python",
   "nbconvert_exporter": "python",
   "pygments_lexer": "ipython3",
   "version": "3.7.7"
  }
 },
 "nbformat": 4,
 "nbformat_minor": 4
}